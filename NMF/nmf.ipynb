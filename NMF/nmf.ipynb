{
 "cells": [
  {
   "cell_type": "markdown",
   "metadata": {},
   "source": [
    "# <font color = \"red\">README <font>"
   ]
  },
  {
   "cell_type": "markdown",
   "metadata": {},
   "source": [
    "To run the notebook, simply run all cells in the order listed.\n",
    "\n",
    "This may take ~ 3 hours due to the runtimes of the $L_{2,1}$-NMF and tanh-NMF algorithms."
   ]
  },
  {
   "cell_type": "markdown",
   "metadata": {},
   "source": [
    "This work is inspired largely by this paper https://arxiv.org/abs/1906.00495. The aims are \n",
    "* To show how non-negative matrix factorisation is useful for certain types of data e.g., human faces\n",
    "* To explain the general concept of NMF\n",
    "* To implement NMF algorithms that are robust to noise\n",
    "\n",
    "Algorithms that are robust to noise are valuable to real-world applications, where data usually carries low levels of noise. Here we deal with noise on the observations (pixels). In another folder in MachineLearningExamples, learning with noisy lables will be examined."
   ]
  },
  {
   "cell_type": "markdown",
   "metadata": {},
   "source": [
    "## Contents\n",
    "1. Introduction to NMF\n",
    "2. Loading Data\n",
    "3. Running Basic NMF\n",
    "4. Evaluating Basic NMF\n",
    "5. Applying different noise algorithms to data\n",
    "6. Implementing different NMF algorithms\n",
    "7. Running evaluation of different algorithms\n",
    "8. Results"
   ]
  },
  {
   "cell_type": "markdown",
   "metadata": {},
   "source": [
    "# Imports"
   ]
  },
  {
   "cell_type": "code",
   "execution_count": 1,
   "metadata": {},
   "outputs": [],
   "source": [
    "import os\n",
    "import numpy as np\n",
    "from PIL import Image\n",
    "import matplotlib.pyplot as plt\n",
    "from collections import Counter\n",
    "from sklearn.cluster import KMeans\n",
    "from sklearn.metrics import accuracy_score\n",
    "from sklearn.metrics import normalized_mutual_info_score\n",
    "from sklearn import datasets\n",
    "import seaborn as sns\n",
    "import cv2"
   ]
  },
  {
   "cell_type": "markdown",
   "metadata": {},
   "source": [
    "# 1. Brief Introduction to NMF"
   ]
  },
  {
   "cell_type": "markdown",
   "metadata": {},
   "source": [
    "The concept of NMF and initial algorithms were introduced in https://citeseerx.ist.psu.edu/viewdoc/download?doi=10.1.1.640.8823&rep=rep1&type=pdf, please read that paper for more detail."
   ]
  },
  {
   "cell_type": "markdown",
   "metadata": {},
   "source": [
    "Non-negaitve matrix factorisation (NMF) is a type of dictionary learning procedure where a set of data $R$ is factorised to two matrices $P$ and $Q$ such that $R \\approx PQ^T$, and all entries of both $P$ and $Q$ are strictly non-negative. If $R$ is an $n \\times m$ matrix then $P$ is $n \\times k$ and $Q$ is $m\\times k$. "
   ]
  },
  {
   "cell_type": "markdown",
   "metadata": {},
   "source": [
    "Estimates for $P$ and $Q$ are achieved by minimising an objective function $l$ of the general form $l(R, P, Q)=R-PQ^T$. For example, using the $L_2$ norm loss function, the objective function \n",
    "$$\n",
    "l(R, P, Q) = || R - PQ^T ||_F^2\n",
    "$$\n",
    "is yielded, where $||\\cdot||_F$ is the Frobenius norm. In this work I examine how different objective functions may yield different levels of robustness to noise. "
   ]
  },
  {
   "cell_type": "markdown",
   "metadata": {},
   "source": [
    "We can think of the matrix $P$ as the dictionary that describes the common features of $R$ by $k$ basis vectors, and $Q$ as the set of coefficients that describe the differences, allowing each observation to be reconstructed. The choice of $k$ (the number of latent variables) can influence the accuracy of dictionary learning algorithms, however it is often desired that $k < m, n$ to achieve a compression via dictionary learning."
   ]
  },
  {
   "cell_type": "markdown",
   "metadata": {},
   "source": [
    "## 1.1 Motivation for non-negativity"
   ]
  },
  {
   "cell_type": "markdown",
   "metadata": {},
   "source": [
    "By specifying $P$ and $Q$ to be non-negative, we learn a parts-based representation of $R$, meaning that $R$ can be reconstructed via only additive operations."
   ]
  },
  {
   "cell_type": "markdown",
   "metadata": {},
   "source": [
    "This is relevant to many applications where data is inherently non-negative, for example image data, medical signal data, and audio data. "
   ]
  },
  {
   "cell_type": "markdown",
   "metadata": {},
   "source": [
    "# 2. Loading the Data and Preprocessing"
   ]
  },
  {
   "cell_type": "markdown",
   "metadata": {},
   "source": [
    "I am using the olivetti faces data set from AT&T Laboratories Cambridge through SciKit-Learn to allow for easier reproducibility. The documentation for the olivetti faces data is available here: https://scikit-learn.org/stable/datasets/real_world.html#olivetti-faces-dataset\n",
    "\n",
    "The original size of these images is 64 x 64 which can create a high computational burden, so I am resizing to 32 x 32"
   ]
  },
  {
   "cell_type": "code",
   "execution_count": 2,
   "metadata": {},
   "outputs": [],
   "source": [
    "def load_images(scaleDownFactor = 2):\n",
    "    \"\"\"\n",
    "    Function that can resize Olivetti images upon loading.\n",
    "    \"\"\"\n",
    "    faces = datasets.fetch_olivetti_faces()\n",
    "    # Faces already returned np arrays\n",
    "    ims = faces.images\n",
    "    labels = faces.target\n",
    "    \n",
    "    # resize images using PIL\n",
    "    images = []\n",
    "    for im in ims:\n",
    "        img = Image.fromarray(np.uint8(im*255))\n",
    "        img = img.convert('L')\n",
    "        img = img.resize(np.array(img.size) // scaleDownFactor)\n",
    "        img = np.asarray(img)\n",
    "        images.append(img)\n",
    "        \n",
    "    # Return images and labels\n",
    "    return np.array(images), labels"
   ]
  },
  {
   "cell_type": "code",
   "execution_count": 3,
   "metadata": {},
   "outputs": [],
   "source": [
    "images, labels = load_images()"
   ]
  },
  {
   "cell_type": "markdown",
   "metadata": {},
   "source": [
    "We have 400 images of size 32 x 32 after downscaling by a factor of 2:"
   ]
  },
  {
   "cell_type": "code",
   "execution_count": 4,
   "metadata": {},
   "outputs": [
    {
     "data": {
      "text/plain": [
       "(400, 32, 32)"
      ]
     },
     "execution_count": 4,
     "metadata": {},
     "output_type": "execute_result"
    }
   ],
   "source": [
    "images.shape"
   ]
  },
  {
   "cell_type": "code",
   "execution_count": 5,
   "metadata": {},
   "outputs": [
    {
     "data": {
      "text/plain": [
       "(400,)"
      ]
     },
     "execution_count": 5,
     "metadata": {},
     "output_type": "execute_result"
    }
   ],
   "source": [
    "labels.shape"
   ]
  },
  {
   "cell_type": "code",
   "execution_count": 6,
   "metadata": {},
   "outputs": [],
   "source": [
    "# Show a random selection of images\n",
    "def plotImages(images, labels, imageShape = None, plotDims=3, width=10, height=12):\n",
    "    if imageShape is not None:\n",
    "        images = images.reshape(*imageShape)\n",
    "    fig, axis = plt.subplots(plotDims, plotDims)\n",
    "    fig.set_figheight(height)\n",
    "    fig.set_figwidth(width)\n",
    "    for i in range(plotDims**2):\n",
    "        randInt = np.random.randint(images.shape[0]) \n",
    "        ax = axis[i%plotDims, i//plotDims]\n",
    "        ax.imshow(images[randInt], cmap='gray')\n",
    "        ax.set_title(labels[randInt])\n",
    "        ax.set_xticks([])\n",
    "        ax.set_yticks([])\n",
    "    plt.subplots_adjust(wspace=0.1, hspace=0.1)\n",
    "    plt.show()"
   ]
  },
  {
   "cell_type": "code",
   "execution_count": 7,
   "metadata": {},
   "outputs": [
    {
     "data": {
      "image/png": "[encoded data removed]",
      "text/plain": [
       "<Figure size 720x864 with 9 Axes>"
      ]
     },
     "metadata": {},
     "output_type": "display_data"
    }
   ],
   "source": [
    "plotImages(images, labels)"
   ]
  },
  {
   "cell_type": "markdown",
   "metadata": {},
   "source": [
    "Here the data matrix $R$ is the set of images, with $n=400$, however we need to convert from a $64 x 64$ image representation to representation compatible with a two dimensional data matrix $R$. We can reshape in numpy to achieve this:"
   ]
  },
  {
   "cell_type": "code",
   "execution_count": 8,
   "metadata": {},
   "outputs": [],
   "source": [
    "def preprocess_images(images):\n",
    "    \"\"\"\n",
    "    Reshapes from 400 x 64 x 64 to 400 x 4096\n",
    "    Can add additional pre-processing if desired.\n",
    "    \"\"\"\n",
    "    images = images.reshape(images.shape[0], images.shape[1]*images.shape[2])\n",
    "    return images"
   ]
  },
  {
   "cell_type": "code",
   "execution_count": 9,
   "metadata": {},
   "outputs": [
    {
     "data": {
      "text/plain": [
       "(400, 1024)"
      ]
     },
     "execution_count": 9,
     "metadata": {},
     "output_type": "execute_result"
    }
   ],
   "source": [
    "imageShape = (images.shape[1], images.shape[2]) # having the original image shape will help later\n",
    "images = preprocess_images(images)\n",
    "images.shape"
   ]
  },
  {
   "cell_type": "markdown",
   "metadata": {},
   "source": [
    "Now we have an $n \\times m$ matrix to represent the image data. Sklearn returns the olivetti faces data scaled between 0-1 as floating point numbers, since it is already non-negative scaling to 0-255 when loading does not affect this, thus it is suitable for NMF. "
   ]
  },
  {
   "cell_type": "markdown",
   "metadata": {},
   "source": [
    "# 3. Basic NMF"
   ]
  },
  {
   "cell_type": "markdown",
   "metadata": {},
   "source": [
    "Standard NMF is usually conducted with the $L_2$ norm as the loss function, with the optimisation procedure using multiplicative update rules as introduced in: https://proceedings.neurips.cc/paper/2000/file/f9d1152547c0bde01830b7e8bd60024c-Paper.pdf \n",
    "\n",
    "These rules are briefly reproduced here."
   ]
  },
  {
   "cell_type": "markdown",
   "metadata": {},
   "source": [
    "## 3.1 $L_2$ Norm NMF\n",
    "\n",
    "Using the $L_2$ norm, we have the following loss function:\n",
    "\n",
    "$$\n",
    "l(R, P, Q) = || R - PQ^T ||_F^2\n",
    "$$\n",
    "\n",
    "where $R$ is the data matrix we wish to factorize, $Q$ are the dictionary terms, and $P$ are the coefficients.\n",
    "\n",
    "Thus the requirement is to learn two matrices $P$ and $Q$. We can use gradient descent to learn these matrices such that the loss function is minimised, however to ensure this is a convex optimisation problem, $P$ must be held fixed whilst moving down the gradient of $Q$ and vice versa. This leads to the multiplicative update rules. \n",
    "\n",
    "The update rule for $P$ is:\n",
    "\n",
    "$$\n",
    "P' = P - \\frac{\\alpha}{2} \\frac{dl}{dP}\n",
    "$$\n",
    "\n",
    "and for Q is:\n",
    "\n",
    "$$\n",
    "Q' = Q - \\frac{\\alpha}{2} \\frac{dl}{dQ}\n",
    "$$\n",
    "\n",
    "Here $\\alpha / 2$ is the learning rate. In the above paper, they show how to set $\\alpha$ such that the resulting updates maintain the non-negativity constraints, which is reproduced below."
   ]
  },
  {
   "cell_type": "markdown",
   "metadata": {},
   "source": [
    "### 3.1.1 Update rule for Q\n",
    "\n",
    "Lets first consider the update rule for $Q$. After taking the derivative, it becomes:\n",
    "$$Q' = Q - \\frac{\\alpha}{2} \\Big[ -2 (R^T - QP^T) P \\Big]$$\n",
    "$$Q' = Q + \\alpha R^T P - \\alpha QP^TP$$\n",
    "\n",
    "So to get rid of the negative term, we choose an $\\alpha$ such that:\n",
    "$$ Q - \\alpha QP^TP = 0$$\n",
    "\n",
    "So our $\\alpha$ becomes:\n",
    "$$\\alpha = \\frac{Q}{QP^TP}$$\n",
    "\n",
    "And so our update rule for $Q$ becomes:\n",
    "$$Q' = \\alpha P^T R = Q \\frac{R^TP}{QP^TP}$$"
   ]
  },
  {
   "cell_type": "markdown",
   "metadata": {},
   "source": [
    "### 3.1.2 Update rule for P\n",
    "\n",
    "Now we consider the update rule for $P$. Similarly, after taking it's derivative, it becomes:\n",
    "$$P' = P - \\frac{\\alpha}{2} \\Big[- 2(R - PQ^T) Q\\Big]$$\n",
    "$$ = P - \\alpha P Q^T Q + \\alpha R Q $$\n",
    "\n",
    "So to get rid of the negative term, we choose an $\\alpha$ such that:\n",
    "$$ P - \\alpha PQ^TQ = 0$$\n",
    "\n",
    "So our $\\alpha$ becomes:\n",
    "$$\\alpha = \\frac{P}{PQ^TQ}$$\n",
    "\n",
    "And so our update rule for $P$ becomes:\n",
    "$$P' = \\alpha RQ = P \\frac{RQ}{PQ^TQ}$$\n",
    "\n",
    "Using different objective functions can lead to different NMF algorithms by following similar steps to the above, however one needs to ensure that the optimisation procedure is appropriate. "
   ]
  },
  {
   "cell_type": "markdown",
   "metadata": {},
   "source": [
    "### 3.1.3 Implementing the $L_2$ Norm NMF"
   ]
  },
  {
   "cell_type": "code",
   "execution_count": 10,
   "metadata": {},
   "outputs": [],
   "source": [
    "def l2Norm(R, P, Q, steps=300):\n",
    "    for step in range(steps):\n",
    "        \n",
    "        #Apply the update rules\n",
    "        P = P * (R @ Q) / (P @ Q.T @ Q)\n",
    "        Q = Q * (R.T @ P) / (Q @ P.T @ P)\n",
    "        \n",
    "        #Force algorithm to avoid negatives and zeros\n",
    "        P[P<=0] = 1e-50\n",
    "        Q[Q<=0] = 1e-50\n",
    "    return P, Q"
   ]
  },
  {
   "cell_type": "markdown",
   "metadata": {},
   "source": [
    "# 4. Evaluating $L_2$ norm NMF"
   ]
  },
  {
   "cell_type": "markdown",
   "metadata": {},
   "source": [
    "## Approach"
   ]
  },
  {
   "cell_type": "markdown",
   "metadata": {},
   "source": [
    "All NMF algorithms in this project will be evaluated using 5 fold CV, where each fold is 90% of the full dataset. 3 metrics are used: Relative Reconstruction Error, Accuracy, and NMI. After examining how NMF works using the $L_2$ norm on the original data, we will introduce some noise to the data and try different NMF algorithms that are purportedly robust to noise."
   ]
  },
  {
   "cell_type": "markdown",
   "metadata": {},
   "source": [
    "## 4.1. Evaluation Metrics\n",
    "### 4.1.1 Relative Reconstruction Error"
   ]
  },
  {
   "cell_type": "markdown",
   "metadata": {},
   "source": [
    "For relative reconstruction error (RRE) we have data matrix $R$ with dictionary $Q$ and coefficients $P$. Thus RRE is defined as\n",
    "$$\n",
    "RRE = \\frac{ \\| \\hat{R} - QP \\|_F }{ \\| \\hat{R} \\|_F}\n",
    "$$\n",
    "\n",
    "where $\\hat{R}$ is the dataset before noise is added (clean), and Q, P are the factorisation results on R (the dataset after adding noise). "
   ]
  },
  {
   "cell_type": "markdown",
   "metadata": {},
   "source": [
    "### 4.1.2  Accuracy\n",
    "    \n",
    "$$ Acc(Y, Y_{pred}) = \\frac{1}{n}\\sum\\limits_{i=1}^n 1\\{Y_{pred}(i) == Y(i)\\}$$\n",
    "        \n",
    "### 4.1.3 Normalized Mutual Information (NMI)\n",
    "\n",
    "$$ NMI(Y, Y_{pred}) = \\frac{2 * I(Y, Y_{pred})}{H(Y) + H(Y_{pred})} $$\n",
    "    \n",
    "where $ I(\\cdot,\\cdot) $ is mutual information and $ H(\\cdot) $ is entropy."
   ]
  },
  {
   "cell_type": "markdown",
   "metadata": {},
   "source": [
    "### 4.1.4 Evaluation Metric Function Definitions"
   ]
  },
  {
   "cell_type": "code",
   "execution_count": 11,
   "metadata": {},
   "outputs": [],
   "source": [
    "def RRE(R_hat, W, H):\n",
    "    \"\"\"\n",
    "    Returns the relative reconstruction error. \n",
    "    \"\"\"\n",
    "    # by default a frobenius norm is produced\n",
    "    return np.linalg.norm(R_hat.T - np.dot(H,W.T)) / np.linalg.norm(R_hat)\n",
    "\n",
    "def assign_cluster_label(P, labels):\n",
    "    kmeans = KMeans(n_clusters=len(set(labels))).fit(P)\n",
    "    preds = np.zeros(labels.shape)\n",
    "    for i in set(kmeans.labels_):\n",
    "        ind = kmeans.labels_ == i\n",
    "        preds[ind] = Counter(labels[ind]).most_common(1)[0][0] # assign label.\n",
    "    return preds"
   ]
  },
  {
   "cell_type": "markdown",
   "metadata": {},
   "source": [
    "## 4.2 Hyperparameter Tuning"
   ]
  },
  {
   "cell_type": "markdown",
   "metadata": {},
   "source": [
    "We need to find an appropriate number of latent variables to use in the factorisation. A higher number of latent variables ($k$) will reduce the reconstruction error of the factorisation, but also reduce the compression gained, and therefore increase the computational cost. We will use the $L_2$-NMF with varying numbers of latent variables to determine a sufficient number."
   ]
  },
  {
   "cell_type": "markdown",
   "metadata": {},
   "source": [
    "### 4.2.1 Functions to create folds"
   ]
  },
  {
   "cell_type": "code",
   "execution_count": 12,
   "metadata": {},
   "outputs": [],
   "source": [
    "def initialiseDictCoeff(images, nLatentVariables):\n",
    "    \"\"\"\n",
    "    This function returns a random array matching the length of images specified, \n",
    "    with a defined number of latent variables. \n",
    "    \"\"\"\n",
    "    #Initialise P and Q as random arrays\n",
    "    rng = np.random.RandomState()\n",
    "    P = rng.rand(images.shape[0], nLatentVariables)\n",
    "    Q = rng.rand(images.shape[1], nLatentVariables)\n",
    "    return P, Q\n",
    "\n",
    "def createFolds(images, labels, portion, numFolds, nLatentVariables):\n",
    "    \"\"\"\n",
    "    Creates a specified number of folds by randomly sampling the image data.\n",
    "    \"\"\"\n",
    "    data = np.copy(images)\n",
    "    numImages = int(data.shape[0] * portion)\n",
    "    imagefolds = []\n",
    "    labelfolds = []\n",
    "    Pfolds = []\n",
    "    Qfolds = []\n",
    "    for i in range(numFolds):\n",
    "        idx = np.random.randint(data.shape[0], size=numImages)\n",
    "        imagefolds.append(data[idx])\n",
    "        labelfolds.append(labels[idx])\n",
    "        P, Q = initialiseDictCoeff(data[idx], nLatentVariables)\n",
    "        Pfolds.append(P)\n",
    "        Qfolds.append(Q)\n",
    "        \n",
    "    return imagefolds, labelfolds, Pfolds, Qfolds"
   ]
  },
  {
   "cell_type": "markdown",
   "metadata": {},
   "source": [
    "### 4.2.3 Finding an appropriate number of latent variables"
   ]
  },
  {
   "cell_type": "code",
   "execution_count": 13,
   "metadata": {},
   "outputs": [
    {
     "name": "stdout",
     "output_type": "stream",
     "text": [
      "Run Time (Minutes): 0.9603575309117635\n",
      "Optimal number of latent variables: 100\n"
     ]
    }
   ],
   "source": [
    "import time\n",
    "startTuneTime = time.time()\n",
    "# Load datasets\n",
    "\n",
    "# Latent Variable Search for L2-NMF \n",
    "nvars = [5, 10, 20, 30, 40, 50, 100]\n",
    "nvarDict = {n:None for n in nvars}\n",
    "for n in nvars:\n",
    "    # Create 5-folds of 90% each\n",
    "    image_Folds, label_Folds, P_Folds, Q_Folds = createFolds(images, labels, portion = 0.9, numFolds = 5, nLatentVariables = n)\n",
    "    fold_data = [(r, p, q) for r, p, q in zip(image_Folds, P_Folds, Q_Folds)]\n",
    "    foldRRE = list()\n",
    "    for i, f in enumerate(fold_data):\n",
    "        R_hat, P, Q = f[0], f[1], f[2]\n",
    "        # Run NMF\n",
    "        P, Q = l2Norm(R_hat, P, Q, steps=1000)\n",
    "        # Calculate RRE\n",
    "        foldRRE.append(RRE(R_hat, P, Q))\n",
    "    # Calculate mean fold RRE for this beta value\n",
    "    nvarDict[n] = np.mean(foldRRE)\n",
    "endTuneTime = time.time()\n",
    "print(\"Run Time (Minutes):\", (endTuneTime-startTuneTime)/60)\n",
    "print(\"Optimal number of latent variables:\", min(nvarDict, key=nvarDict.get))"
   ]
  },
  {
   "cell_type": "code",
   "execution_count": 14,
   "metadata": {},
   "outputs": [
    {
     "data": {
      "text/plain": [
       "{5: 0.15301630722167572,\n",
       " 10: 0.12906500830150897,\n",
       " 20: 0.10496499095913628,\n",
       " 30: 0.0910960553729627,\n",
       " 40: 0.08001535406796804,\n",
       " 50: 0.07243991860272803,\n",
       " 100: 0.050945848251689685}"
      ]
     },
     "execution_count": 14,
     "metadata": {},
     "output_type": "execute_result"
    }
   ],
   "source": [
    "nvarDict"
   ]
  },
  {
   "cell_type": "code",
   "execution_count": 15,
   "metadata": {},
   "outputs": [
    {
     "data": {
      "image/png": "[encoded data removed]",
      "text/plain": [
       "<Figure size 432x288 with 1 Axes>"
      ]
     },
     "metadata": {
      "needs_background": "light"
     },
     "output_type": "display_data"
    }
   ],
   "source": [
    "ax = sns.barplot(x = list(nvarDict.keys()), y = [i*100 for i in list(nvarDict.values())], color = \"tab:blue\")\n",
    "ax.set_xlabel('Latent Variables (k)', fontsize=14)\n",
    "ax.set_ylabel('RRE (%)', fontsize=14)\n",
    "ax.set_title(\"RRE vs. Latent Variables\", fontsize=14)\n",
    "plt.show()"
   ]
  },
  {
   "cell_type": "markdown",
   "metadata": {},
   "source": [
    "Using 100 latent variables, we still achieve compression with a base error of ~ 5% without any noise in the images. However with a data set of only 400 people, using 100 latent variables means that the basis will likely overfit to the data and would not generalise well to images of new faces. Thus I am going to use 20. "
   ]
  },
  {
   "cell_type": "markdown",
   "metadata": {},
   "source": [
    "## 4.3 $L_2$ norm NMF without noise"
   ]
  },
  {
   "cell_type": "markdown",
   "metadata": {},
   "source": [
    "Now let's examine how NMF learns a parts-based representation of non-negative data. We will run the $L_2$-norm NMF on the olivetti faces data set, and then reconstruct the images (data matrix $R$) using the learned matrices $P$ and $Q$. "
   ]
  },
  {
   "cell_type": "code",
   "execution_count": 16,
   "metadata": {},
   "outputs": [
    {
     "name": "stdout",
     "output_type": "stream",
     "text": [
      "R is an 400 x 1024 matrix\n",
      "P is an 400 x 20 matrix\n",
      "Q is an 1024 x 20 matrix\n"
     ]
    }
   ],
   "source": [
    "# Initialise P and Q matrices with 20 latent variables\n",
    "P, Q = initialiseDictCoeff(images, 20)\n",
    "R = images\n",
    "print(f\"R is an {R.shape[0]} x {R.shape[1]} matrix\")\n",
    "print(f\"P is an {P.shape[0]} x {P.shape[1]} matrix\")\n",
    "print(f\"Q is an {Q.shape[0]} x {Q.shape[1]} matrix\")"
   ]
  },
  {
   "cell_type": "markdown",
   "metadata": {},
   "source": [
    "So we can see that a matrix with the same dimensions as $R$ can be reconstructed via $PQ^T$. To understand why this is the case, see this page: https://en.wikipedia.org/wiki/Matrix_multiplication"
   ]
  },
  {
   "cell_type": "markdown",
   "metadata": {},
   "source": [
    "Now let's run the l2norm algorithm to learn P and Q:"
   ]
  },
  {
   "cell_type": "code",
   "execution_count": 17,
   "metadata": {},
   "outputs": [],
   "source": [
    "P, Q = l2Norm(R, P, Q, steps=1000)"
   ]
  },
  {
   "cell_type": "markdown",
   "metadata": {},
   "source": [
    "We can reconstruct the original data $R$, calling the reconstructed version $\\hat{R}$:"
   ]
  },
  {
   "cell_type": "code",
   "execution_count": 18,
   "metadata": {},
   "outputs": [],
   "source": [
    "Rhat = P@Q.T"
   ]
  },
  {
   "cell_type": "markdown",
   "metadata": {},
   "source": [
    "Now let's examine some of the reconstructed images alongside the original:"
   ]
  },
  {
   "cell_type": "code",
   "execution_count": 19,
   "metadata": {},
   "outputs": [],
   "source": [
    "def plot_reconstructions(P, Q, R, imageShape, num_examples = 5):\n",
    "    # reconstruct from learned P and Q\n",
    "    Rhat = P @ Q.T\n",
    "    # reshape to square images\n",
    "    Rhat = Rhat.reshape(Rhat.shape[0], imageShape[0], imageShape[1])\n",
    "    R = R.reshape(R.shape[0], imageShape[0], imageShape[1])\n",
    "    # create the figure\n",
    "    fig, axis = plt.subplots(num_examples, 2)\n",
    "    fig.set_figheight(15)\n",
    "    fig.set_figwidth(15)\n",
    "    for i in range(num_examples):\n",
    "        randInt = np.random.randint(Rhat.shape[0]) \n",
    "        # plot original on left\n",
    "        ax = axis[i, 0]\n",
    "        ax.imshow(R[i], cmap='gray')\n",
    "        ax.set_xticks([])\n",
    "        ax.set_yticks([])\n",
    "        # plot reconstruction on right\n",
    "        ax = axis[i, 1]\n",
    "        ax.imshow(Rhat[i], cmap='gray')\n",
    "        ax.set_xticks([])\n",
    "        ax.set_yticks([])\n",
    "        # column titles\n",
    "        if i == 0:\n",
    "            axis[i, 0].set_title('Original')\n",
    "            axis[i, 1].set_title('Reconstruction')\n",
    "    plt.subplots_adjust(wspace=0.05, hspace=0.05)\n",
    "    plt.show()\n"
   ]
  },
  {
   "cell_type": "code",
   "execution_count": 20,
   "metadata": {},
   "outputs": [
    {
     "data": {
      "image/png": "[encoded data removed]",
      "text/plain": [
       "<Figure size 1080x1080 with 10 Axes>"
      ]
     },
     "metadata": {},
     "output_type": "display_data"
    }
   ],
   "source": [
    "plot_reconstructions(P, Q, R, imageShape)"
   ]
  },
  {
   "cell_type": "markdown",
   "metadata": {},
   "source": [
    "We can see that the reconstructions are imperfect, particularly struggling to capture the noise and eyes of individuals, but the overall facial structure is well captured.\n",
    "\n",
    "The matrix $Q$ contains the learned bases, we can examine these to understand how an image was deconstructed:"
   ]
  },
  {
   "cell_type": "code",
   "execution_count": 21,
   "metadata": {},
   "outputs": [],
   "source": [
    "#show the learned basis\n",
    "def plot_learned_basis(Q):\n",
    "    # reshape Q for plotting\n",
    "    Q = Q.reshape(32, 32, 20)\n",
    "    fig, axis = plt.subplots(4,5) # adjust if you select a different number of latent vars\n",
    "    fig.set_figheight(10)\n",
    "    fig.set_figwidth(10)\n",
    "    plt.suptitle(\"Learned basis images from NMF\", size=16)\n",
    "    idx = 0\n",
    "    for i in range(4): # adjust if you select a different number of latent vars\n",
    "        for j in range(5): # adjust if you select a different number of latent vars\n",
    "            ax = axis[i, j]\n",
    "            ax.imshow(Q[:, :, idx], cmap='gray')\n",
    "            ax.set_xticks([])\n",
    "            ax.set_yticks([])\n",
    "            idx += 1\n",
    "    plt.subplots_adjust(wspace=0.02, hspace=0.02)\n",
    "    plt.show()"
   ]
  },
  {
   "cell_type": "code",
   "execution_count": 22,
   "metadata": {},
   "outputs": [
    {
     "data": {
      "image/png": "[encoded data removed]",
      "text/plain": [
       "<Figure size 720x720 with 20 Axes>"
      ]
     },
     "metadata": {},
     "output_type": "display_data"
    }
   ],
   "source": [
    "plot_learned_basis(Q)"
   ]
  },
  {
   "cell_type": "markdown",
   "metadata": {},
   "source": [
    "We can see that these basis are mostly small positive value images (mostly black), meaning they combine in an additive manner when multiplied with $P$ to reconstruct $R$. The highlighted parts (lighter areas) for each basis image indicate the dominant part of the face contained in that basis image. \n",
    "\n",
    "For example we see images with lighter areas for the nose, eyebrows, upper lip, different sides of the face, under the chin etc. All these components of a face combine additively to form a face."
   ]
  },
  {
   "cell_type": "markdown",
   "metadata": {},
   "source": [
    "# 5. Noisy Data"
   ]
  },
  {
   "cell_type": "markdown",
   "metadata": {},
   "source": [
    "Now that we understand the basic concept of NMF, we can examine the performance of some different algorithms in a more realistic setting: with noisy images. \n",
    "\n",
    "Here are 3 algorithms to introduce different types of noise to the images:"
   ]
  },
  {
   "cell_type": "markdown",
   "metadata": {},
   "source": [
    "## 5.1 Random White Pixels"
   ]
  },
  {
   "cell_type": "markdown",
   "metadata": {},
   "source": [
    "Here, a specified proportion of random pixels are set to white. The proportion of white pixels (value 255) can be changed to trial different noise levels. "
   ]
  },
  {
   "cell_type": "code",
   "execution_count": 23,
   "metadata": {},
   "outputs": [],
   "source": [
    "#The noise algorithm required by the assignment description\n",
    "def addRandomWhitePixels(data, probWhite=0.2):\n",
    "    data = np.copy(data)\n",
    "    rand = np.random.random(data.shape)\n",
    "    data[rand < probWhite] = np.max(data)\n",
    "    return data"
   ]
  },
  {
   "cell_type": "markdown",
   "metadata": {},
   "source": [
    "Here is an example with the noise level (proportion of white pixels) set to be 10%:"
   ]
  },
  {
   "cell_type": "code",
   "execution_count": 24,
   "metadata": {},
   "outputs": [
    {
     "data": {
      "image/png": "[encoded data removed]",
      "text/plain": [
       "<Figure size 720x864 with 9 Axes>"
      ]
     },
     "metadata": {},
     "output_type": "display_data"
    }
   ],
   "source": [
    "#Load data and add random white pixels\n",
    "noisyImages = addRandomWhitePixels(images, probWhite=0.1)\n",
    "plotImages(noisyImages, labels, imageShape = (400, 32,32))"
   ]
  },
  {
   "cell_type": "markdown",
   "metadata": {},
   "source": [
    "## 5.2 Laplacian Noise"
   ]
  },
  {
   "cell_type": "markdown",
   "metadata": {},
   "source": [
    "To test the algorithms robustness to a second noise type, we created a function to add noise drawn from a laplacian distribution. "
   ]
  },
  {
   "cell_type": "code",
   "execution_count": 25,
   "metadata": {},
   "outputs": [],
   "source": [
    "def addLaplacePixels(data, delta = 10):\n",
    "    \"\"\"\n",
    "    Adds laplacian noise to the images.\n",
    "    \"\"\"\n",
    "    data = np.copy(data)\n",
    "    rand = np.random.laplace(scale = delta, size = data.shape)\n",
    "    data = data + rand\n",
    "    return data"
   ]
  },
  {
   "cell_type": "code",
   "execution_count": 26,
   "metadata": {},
   "outputs": [
    {
     "data": {
      "image/png": "[encoded data removed]",
      "text/plain": [
       "<Figure size 720x864 with 9 Axes>"
      ]
     },
     "metadata": {},
     "output_type": "display_data"
    }
   ],
   "source": [
    "# Load data and add white pixels based on laplacian distribution\n",
    "noisyImagesLaplace = addLaplacePixels(images, delta = 10)\n",
    "plotImages(noisyImagesLaplace, labels, imageShape=(400,32,32))"
   ]
  },
  {
   "cell_type": "markdown",
   "metadata": {},
   "source": [
    "## 5.3 Random White Boxes\n",
    "\n",
    "This simple algorithm adds a random white box to the images. We specify the minimum width and height of the box, and the code bellow will add a white box at a random location, covering a specified proportion of the image."
   ]
  },
  {
   "cell_type": "code",
   "execution_count": 27,
   "metadata": {},
   "outputs": [],
   "source": [
    "def addRandomWhiteBoxes(images, proportion=0.2):\n",
    "    images = np.copy(images)\n",
    "    width = images.shape[2]\n",
    "    height = images.shape[1]\n",
    "    imageArea = width * height\n",
    "    minWidth = int(proportion * imageArea / height) + 1\n",
    "    for image in images:\n",
    "        boxWidth = np.random.choice(np.arange(minWidth, width))\n",
    "        boxHeight = int(proportion * imageArea / boxWidth)\n",
    "        randX = np.random.choice(np.arange(width - boxWidth))\n",
    "        randY = np.random.choice(np.arange(height - boxHeight + 1))\n",
    "        image[randY:randY+boxHeight, randX:randX+boxWidth] = 255\n",
    "    return images"
   ]
  },
  {
   "cell_type": "markdown",
   "metadata": {},
   "source": [
    "Here we cover 10% of the image with a box. Compare this to the random white pixels algorithm above which also corrupts 10% of the image with white pixels."
   ]
  },
  {
   "cell_type": "code",
   "execution_count": 28,
   "metadata": {},
   "outputs": [
    {
     "data": {
      "image/png": "[encoded data removed]",
      "text/plain": [
       "<Figure size 720x864 with 9 Axes>"
      ]
     },
     "metadata": {},
     "output_type": "display_data"
    }
   ],
   "source": [
    "#Load data, add random boxes and plot a random selection of images\n",
    "ims = images.reshape(400,32,32)\n",
    "boxyImages = addRandomWhiteBoxes(ims, 0.1)\n",
    "plotImages(boxyImages, labels, imageShape=(400,32,32))"
   ]
  },
  {
   "cell_type": "markdown",
   "metadata": {},
   "source": [
    "# 6. NMF Algorithms"
   ]
  },
  {
   "cell_type": "markdown",
   "metadata": {},
   "source": [
    "Here is an additional NMF algorithm that aims to be robust to noise, we will compare it to the standard $L_2$ norm NMF algorithm. In future, additional algorithms will be added to this tutorial."
   ]
  },
  {
   "cell_type": "markdown",
   "metadata": {},
   "source": [
    "## 6.1 $L_{2,1}$ norm NMF"
   ]
  },
  {
   "cell_type": "markdown",
   "metadata": {},
   "source": [
    "Here we implement an NMF algorithm using an $L_{2,1}$ loss function as described in https://dl.acm.org/doi/abs/10.1145/2063576.2063676\n",
    "\n",
    "The error function is formulated as:\n",
    "$$\n",
    "||R-PQ^T||_{2,1}=\\sum^n_{i=1}\\sqrt{\\sum^p_{j=1}(R-PQ^T)^2_{ji}}=\\sum^n_{i=1}||r_i-p_iQ^T||\n",
    "$$"
   ]
  },
  {
   "cell_type": "markdown",
   "metadata": {},
   "source": [
    "The error for each data point is $||r_i-p_iQ^T||$, which is not squared and thus reduces the influence of larger errors in comparison to the $L_2$ loss function.\n",
    "\n",
    "The optimisation problem can be summarised as\n",
    "$$\n",
    "\\min_{Q,P}||R-PQ^T||_{2,1} s.t. Q\\ge0, P\\ge 0\n",
    "$$\n",
    "\n",
    "The update rules as given by Kong et al. are \n",
    "$$\n",
    "Q' = Q\\frac{(R^TDP)}{(QP^TDP)}\n",
    "$$\n",
    "$$\n",
    "P' = (P.T\\frac{(Q^TRD)}{(Q^TQP.TD)}).T\n",
    "$$\n",
    "where $D$ is a diagonal matrix with the diagonal elements given by\n",
    "$$\n",
    "D_{ii} = \\frac{1}{\\sqrt{\\sum^p_{j=1}(R-PQ^T)^2}}=\\frac{1}{||r_i-p_iQ^T||}\n",
    "$$"
   ]
  },
  {
   "cell_type": "code",
   "execution_count": 29,
   "metadata": {},
   "outputs": [],
   "source": [
    "def l21Norm(R, P, Q, steps=300):\n",
    "        \n",
    "    for step in range(steps):\n",
    "        d = np.square(R - P @ Q.T)\n",
    "        D = np.diag(np.reciprocal(np.sqrt(np.sum(d.T, axis=0))))\n",
    "        \n",
    "        Q = Q * (R.T @ D @ P) / (Q @ P.T @ D @ P)\n",
    "        P = (P.T * (Q.T @ R.T @ D) / (Q.T @ Q @ P.T @ D)).T\n",
    "        \n",
    "        #Force algorithm to avoid negatives and zeros\n",
    "        Q[Q<=0] = 1e-50\n",
    "        P[P<=0] = 1e-50\n",
    "        \n",
    "    return P, Q"
   ]
  },
  {
   "cell_type": "markdown",
   "metadata": {},
   "source": [
    "## 6.2 $L_1$ norm NMF"
   ]
  },
  {
   "cell_type": "markdown",
   "metadata": {},
   "source": [
    "If we assume that the data $R$ has been corrupted by additive noise, then we have that $\\hat{R} = R + E$ where $\\hat{R}$ is the clean data matrix, and $E$ is an $n \\times m $ matrix representing the corruption. In https://projet.liris.cnrs.fr/imagine/pub/proceedings/ICIP-2014/Papers/1569911469.pdf, they show how NMF using an objective function based on the $L_1$ norm can handle this type of noise. \n",
    "\n",
    "Since all noise algorithms are a type of additive noise, the $L_1$ norm based NMF should perform better than the $L_2$ norm. "
   ]
  },
  {
   "cell_type": "markdown",
   "metadata": {},
   "source": [
    "Now we approximate the clean data $\\hat{R}$ by learning $P$, $Q$ from the noisy data $R$, so $\\hat{R} \\approx PQ.T + E$. In this model, the authors further assume that the noise $E$ is sparsely added, so we should expect this algorithm to show robustness at low proportions of noise, but not higher proportions. The sparsity constraint leads to the objective function being formulised as \n",
    "$$\n",
    "loss = ||R-PQ.T-E||^2_F + \\lambda\\sum_j[||E_{.j}||_0]^2\n",
    "$$\n",
    "where $||\\cdot||_0$ is the $L_0$ norm. However the $L_0$ norm is difficult to optimise, and thus the $L_1$ norm is used in its place, leading to the objective function being defined as\n",
    "$$\n",
    "loss = ||R-PQ.T-E||^2_F + \\lambda\\sum_j[||E_{.j}||_1]^2\n",
    "$$"
   ]
  },
  {
   "cell_type": "markdown",
   "metadata": {},
   "source": [
    "In the paper, they provide multiplicative update rules and prove thier convergence, the rules are:\n",
    "\n",
    "To update $Q$:\n",
    "$$\n",
    "Q = Q\\times \\frac{\\hat{R}^TP}{QP^TP}.\n",
    "$$\n",
    "\n",
    "To update $P$, first we let $\\tilde{P}=\\begin{bmatrix}P & \\begin{bmatrix}E^p & E^n\\end{bmatrix}\\end{bmatrix}$, where $E^p=\\frac{|E|+E}{2}, E^n=\\frac{|E|-E}{2}$. Then $P$, $E^p$, and $E^n$ can be updated by the following rule:\n",
    "\n",
    "$$\n",
    "\\tilde{P}_{ij} = max(0, \\tilde{P}_{ij} - \\frac{\\tilde{P}_{ij} \\times (\\tilde{P}\\tilde{Q}^T\\tilde{Q})}{\\tilde{P}S} + \\frac{\\tilde{P}_{ij}\\times (\\tilde{R}\\tilde{Q})}{\\tilde{P}S})\n",
    "$$\n",
    "where $S_{ij} = |(Q^TQ)_{ij}|$, $\\tilde{Q} = \\begin{bmatrix} Q, I, -I \\\\ 0_{1\\times k}\\sqrt{\\lambda}e_{1\\times m}\\sqrt{\\lambda}e_{1\\times m} \\end{bmatrix}$, $\\tilde{R} = \\begin{bmatrix} X & 0_{n\\times 1} \\end{bmatrix}$.\n",
    "\n",
    "Note for these equations, the paper uses an alternative NMF notation with $X = UV$ where $X$ is an $m \\times n$ matrix, $U$ is an $m \\times k$ matrix, and $V$ is a $k \\times n$ matrix. I have translated the notation to be consistent with that used throughout this notebook, where $n$ still represents the number of observations, $m$ the image dimension, and $k$ the latent variables."
   ]
  },
  {
   "cell_type": "code",
   "execution_count": 30,
   "metadata": {},
   "outputs": [],
   "source": [
    "def l1Norm(R, P, Q, lamda, steps = 1000):\n",
    "    \"\"\"\n",
    "    Runs an L1 norm NMF optimisation.\n",
    "    \"\"\"\n",
    "    # Constant values\n",
    "    n = R.shape[0]\n",
    "    m = R.shape[1]\n",
    "    k = P.shape[1]\n",
    "    e1 = np.zeros(m)\n",
    "    e1[0] = 1.\n",
    "    RTilde = np.c_[R, np.zeros(n)]\n",
    "    \n",
    "    # initialise Ep, En, PTilde matrices\n",
    "    Ep = np.uint8(np.zeros((n, m)))\n",
    "    En = np.uint8(np.zeros((n, m)))\n",
    "    PTilde = np.c_[P, Ep, En]\n",
    "    \n",
    "    for i in range(steps):\n",
    "        # Update estimate for Rhat (R-E)\n",
    "        Rhat = R - Ep + En\n",
    "        Rhat[Rhat<0] = 0 # based on constraint given in paper\n",
    "        \n",
    "        # Update Q\n",
    "        Q = Q * ((Rhat.T @ P) / (Q@P.T@P))\n",
    "        \n",
    "        # Update P\n",
    "        qtTop = np.c_[Q, np.identity(m), -np.identity(m)]\n",
    "        qtBot = np.concatenate((np.zeros(k), np.sqrt(lamda)*e1, np.sqrt(lamda)*e1), axis=0)\n",
    "        QTilde = np.row_stack((qtTop, qtBot))\n",
    "        \n",
    "        S = np.absolute(QTilde.T@QTilde)\n",
    "        \n",
    "        PTilde = PTilde - (PTilde * ((PTilde @ QTilde.T @ QTilde) / (PTilde@S))) + (PTilde * ((RTilde @ QTilde)/(PTilde@S)))\n",
    "        PTilde[PTilde < 0] = 0 # implements the max operation\n",
    "        \n",
    "        # Extract updated P, Ep, En\n",
    "        P = PTilde[:, :k]\n",
    "        Ep = PTilde[:, k:k+m]\n",
    "        En = PTilde[:, k+m:]\n",
    "        \n",
    "        # Force matrices to be positive\n",
    "        Q[Q<=0] = 1e-50\n",
    "        P[P<=0] = 1e-50\n",
    "        Ep[Ep<=0] = 1e-50\n",
    "        En[En<=0] = 1e-50\n",
    "        \n",
    "    return P, Q"
   ]
  },
  {
   "cell_type": "markdown",
   "metadata": {},
   "source": [
    "Here is an example of how the $L_1$ norm based NMF can remove additive noise from images:"
   ]
  },
  {
   "cell_type": "code",
   "execution_count": 31,
   "metadata": {},
   "outputs": [],
   "source": [
    "# Load datasets\n",
    "images, labels = load_images(scaleDownFactor=2)\n",
    "imageShape = (images.shape[1], images.shape[2]) # having the original image shape will help later\n",
    "images = preprocess_images(images)\n",
    "\n",
    "# Create 5-folds of 90% each\n",
    "image_Folds, label_Folds, P_Folds, Q_Folds = createFolds(images, labels, portion = 0.9, numFolds = 5, nLatentVariables = 20)\n",
    "R = addRandomWhitePixels(image_Folds[0], probWhite=0.1)\n",
    "P = P_Folds[0]\n",
    "Q = Q_Folds[0]"
   ]
  },
  {
   "cell_type": "code",
   "execution_count": 33,
   "metadata": {},
   "outputs": [],
   "source": [
    "P, Q = l1Norm(R, P, Q, 0.04, steps=300)"
   ]
  },
  {
   "cell_type": "code",
   "execution_count": 34,
   "metadata": {},
   "outputs": [
    {
     "data": {
      "image/png": "[encoded data removed]",
      "text/plain": [
       "<Figure size 1080x1080 with 10 Axes>"
      ]
     },
     "metadata": {},
     "output_type": "display_data"
    }
   ],
   "source": [
    "plot_reconstructions(P, Q, R, imageShape)"
   ]
  },
  {
   "cell_type": "markdown",
   "metadata": {},
   "source": [
    "# 7. Comparison of NMF Algorithms"
   ]
  },
  {
   "cell_type": "markdown",
   "metadata": {},
   "source": [
    "## 7.1 Functions to run a GridSearchCV NMF"
   ]
  },
  {
   "cell_type": "markdown",
   "metadata": {},
   "source": [
    "These are custom functions that will run 5-fold CV with a given noise algorithm, dataset, list of NMF functions, and dictionary of parameter values for each function."
   ]
  },
  {
   "cell_type": "code",
   "execution_count": 35,
   "metadata": {},
   "outputs": [],
   "source": [
    "from collections import Counter\n",
    "from sklearn.cluster import KMeans\n",
    "from sklearn.metrics import accuracy_score\n",
    "from sklearn.metrics import normalized_mutual_info_score\n",
    "\n",
    "def do_Fold_NMF(foldData, labels, noise_amounts, NMF_function, noiseFunction, paramValue = None, imageShape = None):\n",
    "    foldRRE = dict() \n",
    "    foldAcc = dict()\n",
    "    foldNMI = dict()\n",
    "    for n in noise_amounts:\n",
    "        foldRRE[n] = list()\n",
    "        foldAcc[n] = list()\n",
    "        foldNMI[n] = list()\n",
    "        for i, f in enumerate(foldData):\n",
    "            R_hat, P, Q = f[0], f[1], f[2]\n",
    "            # Add some noise\n",
    "            if imageShape is not None:\n",
    "                R_hat = R_hat.reshape(R_hat.shape[0], imageShape[0], imageShape[1])\n",
    "                R = noiseFunction(R_hat, n)\n",
    "                R = R.reshape(R.shape[0], R.shape[1]*R.shape[2])\n",
    "                R_hat = R_hat.reshape(R_hat.shape[0], imageShape[0]*imageShape[1])\n",
    "            else:\n",
    "                R = noiseFunction(R_hat, n)\n",
    "            # Run NMF\n",
    "            if paramValue is not None:\n",
    "                P, Q = NMF_function(R, P, Q, paramValue, steps=200)\n",
    "            else:\n",
    "                P, Q = NMF_function(R, P, Q, steps=200)\n",
    "            # Calculate RRE\n",
    "            foldRRE[n].append(RRE(R_hat, P, Q))\n",
    "            # Calculate Accuracy and NMI\n",
    "            preds = assign_cluster_label(P, labels[i])\n",
    "            foldAcc[n].append(accuracy_score(labels[i], preds))\n",
    "            foldNMI[n].append(normalized_mutual_info_score(labels[i], preds))\n",
    "\n",
    "    return {'noise': {'RRE': foldRRE, 'Acc': foldAcc, 'NMI': foldNMI}}\n",
    "    \n",
    "def RUN_NMF_GRID(foldData, labels, noise_amounts, NMF_Functions, paramDict, noiseFunction, imageShape = None):\n",
    "    \"\"\"\n",
    "    Runs 5 fold CV for different levels of noise, and specified parameters. \n",
    "    \"\"\"\n",
    "    results = dict()\n",
    "\n",
    "    for model in NMF_Functions:\n",
    "        startTime = time.time()\n",
    "        if model in paramDict:\n",
    "            paramResults = dict()\n",
    "            for param in paramDict[model]:\n",
    "                paramValueResults = dict()\n",
    "                for paramValue in paramDict[model][param]:\n",
    "                    foldResults = do_Fold_NMF(foldData, labels, noise_amounts, NMF_Functions[model], noiseFunction, \n",
    "                                          paramValue, imageShape)        \n",
    "                    paramValueResults[paramValue] = foldResults\n",
    "                paramResults[param] = paramValueResults\n",
    "            results[model] = {'Parameter': paramResults}\n",
    "        else:\n",
    "            foldResults = do_Fold_NMF(foldData, labels, noise_amounts, NMF_Functions[model], noiseFunction, \n",
    "                                      imageShape = imageShape)\n",
    "            results[model] = foldResults\n",
    "        endTime = time.time()\n",
    "        print(f\"{model} runtime (minutes):\", (endTime - startTime)/60)\n",
    "            \n",
    "    return results\n",
    "                        "
   ]
  },
  {
   "cell_type": "markdown",
   "metadata": {},
   "source": [
    "# 7.2 Loading Data"
   ]
  },
  {
   "cell_type": "markdown",
   "metadata": {},
   "source": [
    "Let's load the data and create some folds:"
   ]
  },
  {
   "cell_type": "code",
   "execution_count": 36,
   "metadata": {},
   "outputs": [],
   "source": [
    "# Load datasets\n",
    "images, labels = load_images(scaleDownFactor=2)\n",
    "imageShape = (images.shape[1], images.shape[2]) # having the original image shape will help later\n",
    "images = preprocess_images(images)\n",
    "\n",
    "# Create 5-folds of 90% each\n",
    "image_Folds, label_Folds, P_Folds, Q_Folds = createFolds(images, labels, portion = 0.9, numFolds = 5, nLatentVariables = 100)"
   ]
  },
  {
   "cell_type": "markdown",
   "metadata": {},
   "source": [
    "Now we can examine the shape of our 90% fold, we expect 360 32 x 32 images, meaning $R$ should have shape $360 x 1024$:"
   ]
  },
  {
   "cell_type": "code",
   "execution_count": 37,
   "metadata": {},
   "outputs": [
    {
     "name": "stdout",
     "output_type": "stream",
     "text": [
      "R Shape: (360, 1024)\n",
      "Labels Shape: (360,)\n",
      "P Shape: (360, 100)\n",
      "Q Shape: (1024, 100)\n"
     ]
    }
   ],
   "source": [
    "print(\"R Shape:\", image_Folds[0].shape)\n",
    "print(\"Labels Shape:\", label_Folds[0].shape)\n",
    "print(\"P Shape:\", P_Folds[0].shape)\n",
    "print(\"Q Shape:\", Q_Folds[0].shape)"
   ]
  },
  {
   "cell_type": "markdown",
   "metadata": {},
   "source": [
    "## 7.3 NMF with Random White Pixels"
   ]
  },
  {
   "cell_type": "markdown",
   "metadata": {},
   "source": [
    "NMF Functions:\n",
    "* l2 norm NMF\n",
    "* l21 norm NMF\n",
    "* l1 norm NMF with lamda parameter values of 0.01, 0.05, 0.1\n",
    "\n",
    "Noise Type:\n",
    "* Percentage of pixels are turned white (as specified in the assignment spec)\n",
    "\n",
    "Noise Amounts:\n",
    "* 0%, 5%, 10%, 20%, 30%, 40%, 50%, 60%, 70%"
   ]
  },
  {
   "cell_type": "code",
   "execution_count": 38,
   "metadata": {},
   "outputs": [
    {
     "name": "stdout",
     "output_type": "stream",
     "text": [
      "======== Starting ========\n",
      "l2-norm runtime (minutes): 0.48759775161743163\n",
      "l21-norm runtime (minutes): 0.9771232366561889\n",
      "l1-norm runtime (minutes): 45.524068097273506\n",
      "======== Finished ========\n"
     ]
    }
   ],
   "source": [
    "# Specify noise amounts\n",
    "white_noise_amounts = [0.0, 0.05, 0.1, 0.2, 0.3, 0.4, 0.5, 0.6, 0.7]\n",
    "# Specify NMF Functions\n",
    "functions = {'l2-norm': l2Norm, 'l21-norm': l21Norm, 'l1-norm': l1Norm}\n",
    "# Specify Parameters for each function\n",
    "paramDict = {'l1-norm': {\"lamda\": [0.01, 0.05, 0.1]}} \n",
    "# Prepare fold data\n",
    "Fold_Data = [(r, p, q) for r, p, q in zip(image_Folds, P_Folds, Q_Folds)]\n",
    "\n",
    "# Run NMF\n",
    "print(\"======== Starting ========\")\n",
    "whiteNoise_results = RUN_NMF_GRID(Fold_Data, label_Folds, white_noise_amounts, \n",
    "                                      functions, paramDict, addRandomWhitePixels)\n",
    "print(\"======== Finished ========\")"
   ]
  },
  {
   "cell_type": "markdown",
   "metadata": {},
   "source": [
    "## 7.4 NMF with Random White Boxes"
   ]
  },
  {
   "cell_type": "markdown",
   "metadata": {},
   "source": [
    "NMF Functions:\n",
    "* l2 norm\n",
    "* l21 norm\n",
    "* l1 norm NMF with lamda parameter values of 0.01, 0.05, 0.1\n",
    "\n",
    "Noise Type:\n",
    "* Random white boxes placed on the images, of varying proportions.\n",
    "\n",
    "Noise Amounts:\n",
    "* 0%, 5%, 10%, 20%, 30%, 40%, 50%, 60%, 70%"
   ]
  },
  {
   "cell_type": "code",
   "execution_count": 44,
   "metadata": {},
   "outputs": [
    {
     "name": "stdout",
     "output_type": "stream",
     "text": [
      "======== Starting ========\n",
      "l2-norm runtime (minutes): 0.5429344296455383\n",
      "l21-norm runtime (minutes): 1.0312082211176554\n",
      "l1-norm runtime (minutes): 43.62445199886958\n",
      "======== Finished ========\n"
     ]
    }
   ],
   "source": [
    "# Specify noise amounts\n",
    "box_noise_values = [0.0, 0.05, 0.1, 0.2, 0.3, 0.4, 0.5, 0.6, 0.7] \n",
    "# Specify NMF Functions\n",
    "functions = {'l2-norm': l2Norm, 'l21-norm': l21Norm, 'l1-norm': l1Norm}\n",
    "# Specify Parameters for each function\n",
    "paramDict = {'l1-norm': {\"lamda\": [0.01, 0.05, 0.1]}} \n",
    "# Prepare fold data\n",
    "Fold_Data = [(r, p, q) for r, p, q in zip(image_Folds, P_Folds, Q_Folds)]\n",
    "\n",
    "# Run NMF\n",
    "# For this noise function we need to pass the image shape in 2D. \n",
    "print(\"======== Starting ========\")\n",
    "boxNoise_results = RUN_NMF_GRID(Fold_Data, label_Folds, box_noise_values, \n",
    "                                      functions, paramDict, addRandomWhiteBoxes, imageShape) \n",
    "print(\"======== Finished ========\")"
   ]
  },
  {
   "cell_type": "markdown",
   "metadata": {},
   "source": [
    "## 7.5 NMF with Laplacian Noise"
   ]
  },
  {
   "cell_type": "markdown",
   "metadata": {},
   "source": [
    "NMF Functions:\n",
    "* l2 norm\n",
    "* l21 norm\n",
    "* l1 norm NMF with lamda parameter values of 0.01, 0.05, 0.1\n",
    "\n",
    "Noise Type:\n",
    "* Laplacian noise added, of varying delta values (scale parameter in Laplacian distribution)\n",
    "\n",
    "Noise Amounts:\n",
    "* 0, 5, 10, 40, 80, 120, 160, 200, 240, 280"
   ]
  },
  {
   "cell_type": "code",
   "execution_count": 45,
   "metadata": {},
   "outputs": [
    {
     "name": "stdout",
     "output_type": "stream",
     "text": [
      "======== Starting ========\n",
      "l2-norm runtime (minutes): 0.48273571729660036\n",
      "l21-norm runtime (minutes): 0.9666881163914999\n",
      "l1-norm runtime (minutes): 48.17735344568889\n",
      "======== Finished ========\n"
     ]
    }
   ],
   "source": [
    "# Specify noise amounts\n",
    "lap_noise_values = [0, 5, 10, 40, 80, 120, 160, 200, 240, 280] \n",
    "# Specify NMF Functions\n",
    "functions = {'l2-norm': l2Norm, 'l21-norm': l21Norm, 'l1-norm': l1Norm}\n",
    "# Specify Parameters for each function\n",
    "paramDict = {'l1-norm': {\"lamda\": [0.01, 0.05, 0.1]}} \n",
    "# Prepare fold data\n",
    "Fold_Data = [(r, p, q) for r, p, q in zip(image_Folds, P_Folds, Q_Folds)]\n",
    "# Run NMF\n",
    "print(\"======== Starting ========\")\n",
    "lapNoise_results = RUN_NMF_GRID(Fold_Data, label_Folds, lap_noise_values, \n",
    "                                      functions, paramDict, addLaplacePixels) \n",
    "print(\"======== Finished ========\")"
   ]
  },
  {
   "cell_type": "markdown",
   "metadata": {},
   "source": [
    "# 8. Printing and Saving Results"
   ]
  },
  {
   "cell_type": "markdown",
   "metadata": {},
   "source": [
    "Here I define functions to print the full results tables from the cross-validation data, and also export formatted tables. "
   ]
  },
  {
   "cell_type": "code",
   "execution_count": 46,
   "metadata": {},
   "outputs": [],
   "source": [
    "import pandas as pd # pandas only used for printing results table\n",
    "\n",
    "def make_results_table(resultsDict):\n",
    "    \"\"\"\n",
    "    Prints a dataframe/table of results\n",
    "    \"\"\"\n",
    "    index = 0\n",
    "    resultsDf = pd.DataFrame()\n",
    "    for model in resultsDict:\n",
    "        if \"noise\" in list(resultsDict[model].keys()):\n",
    "            # make table for noise for this model\n",
    "            for noise_amount in resultsDict[model]['noise']['RRE']:\n",
    "                RREfiveFoldCV_results = resultsDict[model]['noise']['RRE'][noise_amount]\n",
    "                AccfiveFoldCV_results = resultsDict[model]['noise']['Acc'][noise_amount]\n",
    "                NMIfiveFoldCV_results = resultsDict[model]['noise']['NMI'][noise_amount]\n",
    "                RREmean = np.average(RREfiveFoldCV_results)\n",
    "                RREsd = np.std(RREfiveFoldCV_results)\n",
    "                Accmean = np.average(AccfiveFoldCV_results)\n",
    "                Accsd = np.std(AccfiveFoldCV_results)\n",
    "                NMImean = np.average(NMIfiveFoldCV_results)\n",
    "                NMIsd = np.std(NMIfiveFoldCV_results)\n",
    "                \n",
    "                row = pd.DataFrame({'model': model, 'parameter': None, 'parameterValue': None,\n",
    "                                    'noise': [noise_amount], 'RRE (mean)': RREmean, 'RRE (sd)': RREsd, \n",
    "                                   \"Acc (mean)\": Accmean, \"Acc (sd)\": Accsd, \"NMI (mean)\": NMImean,\n",
    "                                   \"NMI (sd)\": NMIsd}, index = [index])\n",
    "                resultsDf = resultsDf.append(row)\n",
    "                index += 1\n",
    "        else:\n",
    "            # GridSearchOverParameters was run\n",
    "            for parameter in resultsDict[model]['Parameter']:\n",
    "                for paramValue in resultsDict[model]['Parameter'][parameter]:\n",
    "                    for noise_amount in resultsDict[model]['Parameter'][parameter][paramValue]['noise']['RRE']:\n",
    "                        RREfiveFoldCV_results = resultsDict[model]['Parameter'][parameter][paramValue]['noise']['RRE'][noise_amount]\n",
    "                        AccfiveFoldCV_results = resultsDict[model]['Parameter'][parameter][paramValue]['noise']['Acc'][noise_amount]\n",
    "                        NMIfiveFoldCV_results = resultsDict[model]['Parameter'][parameter][paramValue]['noise']['NMI'][noise_amount]\n",
    "                        RREmean = np.average(RREfiveFoldCV_results)\n",
    "                        RREsd = np.std(RREfiveFoldCV_results)\n",
    "                        Accmean = np.average(AccfiveFoldCV_results)\n",
    "                        Accsd = np.std(AccfiveFoldCV_results)\n",
    "                        NMImean = np.average(NMIfiveFoldCV_results)\n",
    "                        NMIsd = np.std(NMIfiveFoldCV_results)\n",
    "                        row = pd.DataFrame({'model': model, 'parameter': parameter, 'parameterValue': paramValue,\n",
    "                                            'noise': [noise_amount], 'RRE (mean)': RREmean, 'RRE (sd)': RREsd,\n",
    "                                            \"Acc (mean)\": Accmean, \"Acc (sd)\": Accsd, \"NMI (mean)\": NMImean,\n",
    "                                            \"NMI (sd)\": NMIsd}, index = [index])\n",
    "                        resultsDf = resultsDf.append(row)\n",
    "                        index += 1\n",
    "    return resultsDf"
   ]
  },
  {
   "cell_type": "code",
   "execution_count": 47,
   "metadata": {},
   "outputs": [],
   "source": [
    "whiteNoise_resultsDf = make_results_table(whiteNoise_results)\n",
    "boxNoise_resultsDf = make_results_table(boxNoise_results)\n",
    "lapNoise_resultsDf = make_results_table(lapNoise_results)"
   ]
  },
  {
   "cell_type": "markdown",
   "metadata": {},
   "source": [
    "#### Example results"
   ]
  },
  {
   "cell_type": "code",
   "execution_count": 48,
   "metadata": {},
   "outputs": [
    {
     "data": {
      "text/html": [
       "<div>\n",
       "<style scoped>\n",
       "    .dataframe tbody tr th:only-of-type {\n",
       "        vertical-align: middle;\n",
       "    }\n",
       "\n",
       "    .dataframe tbody tr th {\n",
       "        vertical-align: top;\n",
       "    }\n",
       "\n",
       "    .dataframe thead th {\n",
       "        text-align: right;\n",
       "    }\n",
       "</style>\n",
       "<table border=\"1\" class=\"dataframe\">\n",
       "  <thead>\n",
       "    <tr style=\"text-align: right;\">\n",
       "      <th></th>\n",
       "      <th>model</th>\n",
       "      <th>parameter</th>\n",
       "      <th>parameterValue</th>\n",
       "      <th>noise</th>\n",
       "      <th>RRE (mean)</th>\n",
       "      <th>RRE (sd)</th>\n",
       "      <th>Acc (mean)</th>\n",
       "      <th>Acc (sd)</th>\n",
       "      <th>NMI (mean)</th>\n",
       "      <th>NMI (sd)</th>\n",
       "    </tr>\n",
       "  </thead>\n",
       "  <tbody>\n",
       "    <tr>\n",
       "      <th>0</th>\n",
       "      <td>l2-norm</td>\n",
       "      <td>None</td>\n",
       "      <td>NaN</td>\n",
       "      <td>0.00</td>\n",
       "      <td>0.078311</td>\n",
       "      <td>0.000800</td>\n",
       "      <td>0.705556</td>\n",
       "      <td>0.020261</td>\n",
       "      <td>0.815509</td>\n",
       "      <td>0.006284</td>\n",
       "    </tr>\n",
       "    <tr>\n",
       "      <th>1</th>\n",
       "      <td>l2-norm</td>\n",
       "      <td>None</td>\n",
       "      <td>NaN</td>\n",
       "      <td>0.05</td>\n",
       "      <td>0.123470</td>\n",
       "      <td>0.001688</td>\n",
       "      <td>0.682778</td>\n",
       "      <td>0.035893</td>\n",
       "      <td>0.797558</td>\n",
       "      <td>0.019318</td>\n",
       "    </tr>\n",
       "    <tr>\n",
       "      <th>2</th>\n",
       "      <td>l2-norm</td>\n",
       "      <td>None</td>\n",
       "      <td>NaN</td>\n",
       "      <td>0.10</td>\n",
       "      <td>0.172578</td>\n",
       "      <td>0.002361</td>\n",
       "      <td>0.553333</td>\n",
       "      <td>0.045250</td>\n",
       "      <td>0.695596</td>\n",
       "      <td>0.028356</td>\n",
       "    </tr>\n",
       "    <tr>\n",
       "      <th>3</th>\n",
       "      <td>l2-norm</td>\n",
       "      <td>None</td>\n",
       "      <td>NaN</td>\n",
       "      <td>0.20</td>\n",
       "      <td>0.255861</td>\n",
       "      <td>0.003413</td>\n",
       "      <td>0.378333</td>\n",
       "      <td>0.030651</td>\n",
       "      <td>0.531451</td>\n",
       "      <td>0.035606</td>\n",
       "    </tr>\n",
       "    <tr>\n",
       "      <th>4</th>\n",
       "      <td>l2-norm</td>\n",
       "      <td>None</td>\n",
       "      <td>NaN</td>\n",
       "      <td>0.30</td>\n",
       "      <td>0.330557</td>\n",
       "      <td>0.004759</td>\n",
       "      <td>0.266667</td>\n",
       "      <td>0.012790</td>\n",
       "      <td>0.422519</td>\n",
       "      <td>0.019539</td>\n",
       "    </tr>\n",
       "    <tr>\n",
       "      <th>5</th>\n",
       "      <td>l2-norm</td>\n",
       "      <td>None</td>\n",
       "      <td>NaN</td>\n",
       "      <td>0.40</td>\n",
       "      <td>0.401445</td>\n",
       "      <td>0.005803</td>\n",
       "      <td>0.223333</td>\n",
       "      <td>0.025975</td>\n",
       "      <td>0.355822</td>\n",
       "      <td>0.047611</td>\n",
       "    </tr>\n",
       "    <tr>\n",
       "      <th>6</th>\n",
       "      <td>l2-norm</td>\n",
       "      <td>None</td>\n",
       "      <td>NaN</td>\n",
       "      <td>0.50</td>\n",
       "      <td>0.470823</td>\n",
       "      <td>0.006237</td>\n",
       "      <td>0.197778</td>\n",
       "      <td>0.008854</td>\n",
       "      <td>0.322781</td>\n",
       "      <td>0.018625</td>\n",
       "    </tr>\n",
       "    <tr>\n",
       "      <th>7</th>\n",
       "      <td>l2-norm</td>\n",
       "      <td>None</td>\n",
       "      <td>NaN</td>\n",
       "      <td>0.60</td>\n",
       "      <td>0.537018</td>\n",
       "      <td>0.007655</td>\n",
       "      <td>0.186111</td>\n",
       "      <td>0.006334</td>\n",
       "      <td>0.297260</td>\n",
       "      <td>0.018386</td>\n",
       "    </tr>\n",
       "    <tr>\n",
       "      <th>8</th>\n",
       "      <td>l2-norm</td>\n",
       "      <td>None</td>\n",
       "      <td>NaN</td>\n",
       "      <td>0.70</td>\n",
       "      <td>0.603941</td>\n",
       "      <td>0.008322</td>\n",
       "      <td>0.177778</td>\n",
       "      <td>0.006334</td>\n",
       "      <td>0.271343</td>\n",
       "      <td>0.026680</td>\n",
       "    </tr>\n",
       "    <tr>\n",
       "      <th>9</th>\n",
       "      <td>l21-norm</td>\n",
       "      <td>None</td>\n",
       "      <td>NaN</td>\n",
       "      <td>0.00</td>\n",
       "      <td>0.079959</td>\n",
       "      <td>0.000656</td>\n",
       "      <td>0.721111</td>\n",
       "      <td>0.034138</td>\n",
       "      <td>0.823201</td>\n",
       "      <td>0.019395</td>\n",
       "    </tr>\n",
       "    <tr>\n",
       "      <th>10</th>\n",
       "      <td>l21-norm</td>\n",
       "      <td>None</td>\n",
       "      <td>NaN</td>\n",
       "      <td>0.05</td>\n",
       "      <td>0.123105</td>\n",
       "      <td>0.001411</td>\n",
       "      <td>0.687778</td>\n",
       "      <td>0.041633</td>\n",
       "      <td>0.798642</td>\n",
       "      <td>0.021985</td>\n",
       "    </tr>\n",
       "    <tr>\n",
       "      <th>11</th>\n",
       "      <td>l21-norm</td>\n",
       "      <td>None</td>\n",
       "      <td>NaN</td>\n",
       "      <td>0.10</td>\n",
       "      <td>0.169642</td>\n",
       "      <td>0.002211</td>\n",
       "      <td>0.594444</td>\n",
       "      <td>0.031769</td>\n",
       "      <td>0.717988</td>\n",
       "      <td>0.021488</td>\n",
       "    </tr>\n",
       "    <tr>\n",
       "      <th>12</th>\n",
       "      <td>l21-norm</td>\n",
       "      <td>None</td>\n",
       "      <td>NaN</td>\n",
       "      <td>0.20</td>\n",
       "      <td>0.252578</td>\n",
       "      <td>0.002695</td>\n",
       "      <td>0.403889</td>\n",
       "      <td>0.019293</td>\n",
       "      <td>0.555840</td>\n",
       "      <td>0.014703</td>\n",
       "    </tr>\n",
       "    <tr>\n",
       "      <th>13</th>\n",
       "      <td>l21-norm</td>\n",
       "      <td>None</td>\n",
       "      <td>NaN</td>\n",
       "      <td>0.30</td>\n",
       "      <td>0.328263</td>\n",
       "      <td>0.004240</td>\n",
       "      <td>0.267222</td>\n",
       "      <td>0.014207</td>\n",
       "      <td>0.418587</td>\n",
       "      <td>0.022113</td>\n",
       "    </tr>\n",
       "    <tr>\n",
       "      <th>14</th>\n",
       "      <td>l21-norm</td>\n",
       "      <td>None</td>\n",
       "      <td>NaN</td>\n",
       "      <td>0.40</td>\n",
       "      <td>0.398961</td>\n",
       "      <td>0.005536</td>\n",
       "      <td>0.228889</td>\n",
       "      <td>0.014866</td>\n",
       "      <td>0.366398</td>\n",
       "      <td>0.020678</td>\n",
       "    </tr>\n",
       "    <tr>\n",
       "      <th>15</th>\n",
       "      <td>l21-norm</td>\n",
       "      <td>None</td>\n",
       "      <td>NaN</td>\n",
       "      <td>0.50</td>\n",
       "      <td>0.468636</td>\n",
       "      <td>0.006284</td>\n",
       "      <td>0.205556</td>\n",
       "      <td>0.007244</td>\n",
       "      <td>0.334060</td>\n",
       "      <td>0.010352</td>\n",
       "    </tr>\n",
       "    <tr>\n",
       "      <th>16</th>\n",
       "      <td>l21-norm</td>\n",
       "      <td>None</td>\n",
       "      <td>NaN</td>\n",
       "      <td>0.60</td>\n",
       "      <td>0.535917</td>\n",
       "      <td>0.007517</td>\n",
       "      <td>0.197222</td>\n",
       "      <td>0.011653</td>\n",
       "      <td>0.328071</td>\n",
       "      <td>0.013362</td>\n",
       "    </tr>\n",
       "    <tr>\n",
       "      <th>17</th>\n",
       "      <td>l21-norm</td>\n",
       "      <td>None</td>\n",
       "      <td>NaN</td>\n",
       "      <td>0.70</td>\n",
       "      <td>0.602313</td>\n",
       "      <td>0.008660</td>\n",
       "      <td>0.186111</td>\n",
       "      <td>0.012669</td>\n",
       "      <td>0.309219</td>\n",
       "      <td>0.020213</td>\n",
       "    </tr>\n",
       "    <tr>\n",
       "      <th>18</th>\n",
       "      <td>l1-norm</td>\n",
       "      <td>lamda</td>\n",
       "      <td>0.01</td>\n",
       "      <td>0.00</td>\n",
       "      <td>0.078278</td>\n",
       "      <td>0.000796</td>\n",
       "      <td>0.707222</td>\n",
       "      <td>0.018970</td>\n",
       "      <td>0.818989</td>\n",
       "      <td>0.010120</td>\n",
       "    </tr>\n",
       "    <tr>\n",
       "      <th>19</th>\n",
       "      <td>l1-norm</td>\n",
       "      <td>lamda</td>\n",
       "      <td>0.01</td>\n",
       "      <td>0.05</td>\n",
       "      <td>0.111397</td>\n",
       "      <td>0.001271</td>\n",
       "      <td>0.682222</td>\n",
       "      <td>0.034987</td>\n",
       "      <td>0.796249</td>\n",
       "      <td>0.020741</td>\n",
       "    </tr>\n",
       "    <tr>\n",
       "      <th>20</th>\n",
       "      <td>l1-norm</td>\n",
       "      <td>lamda</td>\n",
       "      <td>0.01</td>\n",
       "      <td>0.10</td>\n",
       "      <td>0.154946</td>\n",
       "      <td>0.001877</td>\n",
       "      <td>0.597778</td>\n",
       "      <td>0.025055</td>\n",
       "      <td>0.727959</td>\n",
       "      <td>0.013352</td>\n",
       "    </tr>\n",
       "    <tr>\n",
       "      <th>21</th>\n",
       "      <td>l1-norm</td>\n",
       "      <td>lamda</td>\n",
       "      <td>0.01</td>\n",
       "      <td>0.20</td>\n",
       "      <td>0.244325</td>\n",
       "      <td>0.004082</td>\n",
       "      <td>0.373889</td>\n",
       "      <td>0.036877</td>\n",
       "      <td>0.545588</td>\n",
       "      <td>0.017427</td>\n",
       "    </tr>\n",
       "    <tr>\n",
       "      <th>22</th>\n",
       "      <td>l1-norm</td>\n",
       "      <td>lamda</td>\n",
       "      <td>0.01</td>\n",
       "      <td>0.30</td>\n",
       "      <td>0.325574</td>\n",
       "      <td>0.004602</td>\n",
       "      <td>0.267222</td>\n",
       "      <td>0.022181</td>\n",
       "      <td>0.422543</td>\n",
       "      <td>0.027747</td>\n",
       "    </tr>\n",
       "    <tr>\n",
       "      <th>23</th>\n",
       "      <td>l1-norm</td>\n",
       "      <td>lamda</td>\n",
       "      <td>0.01</td>\n",
       "      <td>0.40</td>\n",
       "      <td>0.401130</td>\n",
       "      <td>0.005334</td>\n",
       "      <td>0.223333</td>\n",
       "      <td>0.022333</td>\n",
       "      <td>0.354102</td>\n",
       "      <td>0.021984</td>\n",
       "    </tr>\n",
       "    <tr>\n",
       "      <th>24</th>\n",
       "      <td>l1-norm</td>\n",
       "      <td>lamda</td>\n",
       "      <td>0.01</td>\n",
       "      <td>0.50</td>\n",
       "      <td>0.470946</td>\n",
       "      <td>0.005764</td>\n",
       "      <td>0.203889</td>\n",
       "      <td>0.014229</td>\n",
       "      <td>0.319131</td>\n",
       "      <td>0.016617</td>\n",
       "    </tr>\n",
       "    <tr>\n",
       "      <th>25</th>\n",
       "      <td>l1-norm</td>\n",
       "      <td>lamda</td>\n",
       "      <td>0.01</td>\n",
       "      <td>0.60</td>\n",
       "      <td>0.538789</td>\n",
       "      <td>0.007253</td>\n",
       "      <td>0.180556</td>\n",
       "      <td>0.010686</td>\n",
       "      <td>0.271681</td>\n",
       "      <td>0.020533</td>\n",
       "    </tr>\n",
       "    <tr>\n",
       "      <th>26</th>\n",
       "      <td>l1-norm</td>\n",
       "      <td>lamda</td>\n",
       "      <td>0.01</td>\n",
       "      <td>0.70</td>\n",
       "      <td>0.604889</td>\n",
       "      <td>0.008556</td>\n",
       "      <td>0.178333</td>\n",
       "      <td>0.010153</td>\n",
       "      <td>0.284349</td>\n",
       "      <td>0.014898</td>\n",
       "    </tr>\n",
       "    <tr>\n",
       "      <th>27</th>\n",
       "      <td>l1-norm</td>\n",
       "      <td>lamda</td>\n",
       "      <td>0.05</td>\n",
       "      <td>0.00</td>\n",
       "      <td>0.078278</td>\n",
       "      <td>0.000796</td>\n",
       "      <td>0.728333</td>\n",
       "      <td>0.019830</td>\n",
       "      <td>0.828319</td>\n",
       "      <td>0.012214</td>\n",
       "    </tr>\n",
       "    <tr>\n",
       "      <th>28</th>\n",
       "      <td>l1-norm</td>\n",
       "      <td>lamda</td>\n",
       "      <td>0.05</td>\n",
       "      <td>0.05</td>\n",
       "      <td>0.110852</td>\n",
       "      <td>0.001131</td>\n",
       "      <td>0.688333</td>\n",
       "      <td>0.025664</td>\n",
       "      <td>0.809144</td>\n",
       "      <td>0.011438</td>\n",
       "    </tr>\n",
       "    <tr>\n",
       "      <th>29</th>\n",
       "      <td>l1-norm</td>\n",
       "      <td>lamda</td>\n",
       "      <td>0.05</td>\n",
       "      <td>0.10</td>\n",
       "      <td>0.155598</td>\n",
       "      <td>0.002674</td>\n",
       "      <td>0.595556</td>\n",
       "      <td>0.031652</td>\n",
       "      <td>0.719954</td>\n",
       "      <td>0.021364</td>\n",
       "    </tr>\n",
       "    <tr>\n",
       "      <th>30</th>\n",
       "      <td>l1-norm</td>\n",
       "      <td>lamda</td>\n",
       "      <td>0.05</td>\n",
       "      <td>0.20</td>\n",
       "      <td>0.244918</td>\n",
       "      <td>0.003931</td>\n",
       "      <td>0.385556</td>\n",
       "      <td>0.018375</td>\n",
       "      <td>0.541938</td>\n",
       "      <td>0.009942</td>\n",
       "    </tr>\n",
       "    <tr>\n",
       "      <th>31</th>\n",
       "      <td>l1-norm</td>\n",
       "      <td>lamda</td>\n",
       "      <td>0.05</td>\n",
       "      <td>0.30</td>\n",
       "      <td>0.325461</td>\n",
       "      <td>0.003725</td>\n",
       "      <td>0.261111</td>\n",
       "      <td>0.014803</td>\n",
       "      <td>0.419590</td>\n",
       "      <td>0.008746</td>\n",
       "    </tr>\n",
       "    <tr>\n",
       "      <th>32</th>\n",
       "      <td>l1-norm</td>\n",
       "      <td>lamda</td>\n",
       "      <td>0.05</td>\n",
       "      <td>0.40</td>\n",
       "      <td>0.401414</td>\n",
       "      <td>0.005012</td>\n",
       "      <td>0.226667</td>\n",
       "      <td>0.014657</td>\n",
       "      <td>0.362858</td>\n",
       "      <td>0.024135</td>\n",
       "    </tr>\n",
       "    <tr>\n",
       "      <th>33</th>\n",
       "      <td>l1-norm</td>\n",
       "      <td>lamda</td>\n",
       "      <td>0.05</td>\n",
       "      <td>0.50</td>\n",
       "      <td>0.470507</td>\n",
       "      <td>0.006880</td>\n",
       "      <td>0.190556</td>\n",
       "      <td>0.009876</td>\n",
       "      <td>0.301668</td>\n",
       "      <td>0.021879</td>\n",
       "    </tr>\n",
       "    <tr>\n",
       "      <th>34</th>\n",
       "      <td>l1-norm</td>\n",
       "      <td>lamda</td>\n",
       "      <td>0.05</td>\n",
       "      <td>0.60</td>\n",
       "      <td>0.538928</td>\n",
       "      <td>0.007162</td>\n",
       "      <td>0.182778</td>\n",
       "      <td>0.012838</td>\n",
       "      <td>0.281233</td>\n",
       "      <td>0.018393</td>\n",
       "    </tr>\n",
       "    <tr>\n",
       "      <th>35</th>\n",
       "      <td>l1-norm</td>\n",
       "      <td>lamda</td>\n",
       "      <td>0.05</td>\n",
       "      <td>0.70</td>\n",
       "      <td>0.604942</td>\n",
       "      <td>0.008298</td>\n",
       "      <td>0.177778</td>\n",
       "      <td>0.014487</td>\n",
       "      <td>0.284605</td>\n",
       "      <td>0.017364</td>\n",
       "    </tr>\n",
       "    <tr>\n",
       "      <th>36</th>\n",
       "      <td>l1-norm</td>\n",
       "      <td>lamda</td>\n",
       "      <td>0.10</td>\n",
       "      <td>0.00</td>\n",
       "      <td>0.078278</td>\n",
       "      <td>0.000796</td>\n",
       "      <td>0.715556</td>\n",
       "      <td>0.024444</td>\n",
       "      <td>0.824245</td>\n",
       "      <td>0.012943</td>\n",
       "    </tr>\n",
       "    <tr>\n",
       "      <th>37</th>\n",
       "      <td>l1-norm</td>\n",
       "      <td>lamda</td>\n",
       "      <td>0.10</td>\n",
       "      <td>0.05</td>\n",
       "      <td>0.111051</td>\n",
       "      <td>0.001456</td>\n",
       "      <td>0.683333</td>\n",
       "      <td>0.023831</td>\n",
       "      <td>0.803680</td>\n",
       "      <td>0.011583</td>\n",
       "    </tr>\n",
       "    <tr>\n",
       "      <th>38</th>\n",
       "      <td>l1-norm</td>\n",
       "      <td>lamda</td>\n",
       "      <td>0.10</td>\n",
       "      <td>0.10</td>\n",
       "      <td>0.154985</td>\n",
       "      <td>0.001932</td>\n",
       "      <td>0.612222</td>\n",
       "      <td>0.034898</td>\n",
       "      <td>0.740342</td>\n",
       "      <td>0.021937</td>\n",
       "    </tr>\n",
       "    <tr>\n",
       "      <th>39</th>\n",
       "      <td>l1-norm</td>\n",
       "      <td>lamda</td>\n",
       "      <td>0.10</td>\n",
       "      <td>0.20</td>\n",
       "      <td>0.244484</td>\n",
       "      <td>0.002818</td>\n",
       "      <td>0.378333</td>\n",
       "      <td>0.022111</td>\n",
       "      <td>0.529954</td>\n",
       "      <td>0.011976</td>\n",
       "    </tr>\n",
       "    <tr>\n",
       "      <th>40</th>\n",
       "      <td>l1-norm</td>\n",
       "      <td>lamda</td>\n",
       "      <td>0.10</td>\n",
       "      <td>0.30</td>\n",
       "      <td>0.324601</td>\n",
       "      <td>0.004550</td>\n",
       "      <td>0.276111</td>\n",
       "      <td>0.036456</td>\n",
       "      <td>0.423614</td>\n",
       "      <td>0.042143</td>\n",
       "    </tr>\n",
       "    <tr>\n",
       "      <th>41</th>\n",
       "      <td>l1-norm</td>\n",
       "      <td>lamda</td>\n",
       "      <td>0.10</td>\n",
       "      <td>0.40</td>\n",
       "      <td>0.400945</td>\n",
       "      <td>0.004857</td>\n",
       "      <td>0.217778</td>\n",
       "      <td>0.022333</td>\n",
       "      <td>0.342918</td>\n",
       "      <td>0.029439</td>\n",
       "    </tr>\n",
       "    <tr>\n",
       "      <th>42</th>\n",
       "      <td>l1-norm</td>\n",
       "      <td>lamda</td>\n",
       "      <td>0.10</td>\n",
       "      <td>0.50</td>\n",
       "      <td>0.471267</td>\n",
       "      <td>0.006093</td>\n",
       "      <td>0.196667</td>\n",
       "      <td>0.008127</td>\n",
       "      <td>0.314460</td>\n",
       "      <td>0.025458</td>\n",
       "    </tr>\n",
       "    <tr>\n",
       "      <th>43</th>\n",
       "      <td>l1-norm</td>\n",
       "      <td>lamda</td>\n",
       "      <td>0.10</td>\n",
       "      <td>0.60</td>\n",
       "      <td>0.538683</td>\n",
       "      <td>0.007107</td>\n",
       "      <td>0.183889</td>\n",
       "      <td>0.010000</td>\n",
       "      <td>0.277717</td>\n",
       "      <td>0.022427</td>\n",
       "    </tr>\n",
       "    <tr>\n",
       "      <th>44</th>\n",
       "      <td>l1-norm</td>\n",
       "      <td>lamda</td>\n",
       "      <td>0.10</td>\n",
       "      <td>0.70</td>\n",
       "      <td>0.605464</td>\n",
       "      <td>0.008836</td>\n",
       "      <td>0.179444</td>\n",
       "      <td>0.012741</td>\n",
       "      <td>0.270129</td>\n",
       "      <td>0.023844</td>\n",
       "    </tr>\n",
       "  </tbody>\n",
       "</table>\n",
       "</div>"
      ],
      "text/plain": [
       "       model parameter  parameterValue  noise  RRE (mean)  RRE (sd)  \\\n",
       "0    l2-norm      None             NaN   0.00    0.078311  0.000800   \n",
       "1    l2-norm      None             NaN   0.05    0.123470  0.001688   \n",
       "2    l2-norm      None             NaN   0.10    0.172578  0.002361   \n",
       "3    l2-norm      None             NaN   0.20    0.255861  0.003413   \n",
       "4    l2-norm      None             NaN   0.30    0.330557  0.004759   \n",
       "5    l2-norm      None             NaN   0.40    0.401445  0.005803   \n",
       "6    l2-norm      None             NaN   0.50    0.470823  0.006237   \n",
       "7    l2-norm      None             NaN   0.60    0.537018  0.007655   \n",
       "8    l2-norm      None             NaN   0.70    0.603941  0.008322   \n",
       "9   l21-norm      None             NaN   0.00    0.079959  0.000656   \n",
       "10  l21-norm      None             NaN   0.05    0.123105  0.001411   \n",
       "11  l21-norm      None             NaN   0.10    0.169642  0.002211   \n",
       "12  l21-norm      None             NaN   0.20    0.252578  0.002695   \n",
       "13  l21-norm      None             NaN   0.30    0.328263  0.004240   \n",
       "14  l21-norm      None             NaN   0.40    0.398961  0.005536   \n",
       "15  l21-norm      None             NaN   0.50    0.468636  0.006284   \n",
       "16  l21-norm      None             NaN   0.60    0.535917  0.007517   \n",
       "17  l21-norm      None             NaN   0.70    0.602313  0.008660   \n",
       "18   l1-norm     lamda            0.01   0.00    0.078278  0.000796   \n",
       "19   l1-norm     lamda            0.01   0.05    0.111397  0.001271   \n",
       "20   l1-norm     lamda            0.01   0.10    0.154946  0.001877   \n",
       "21   l1-norm     lamda            0.01   0.20    0.244325  0.004082   \n",
       "22   l1-norm     lamda            0.01   0.30    0.325574  0.004602   \n",
       "23   l1-norm     lamda            0.01   0.40    0.401130  0.005334   \n",
       "24   l1-norm     lamda            0.01   0.50    0.470946  0.005764   \n",
       "25   l1-norm     lamda            0.01   0.60    0.538789  0.007253   \n",
       "26   l1-norm     lamda            0.01   0.70    0.604889  0.008556   \n",
       "27   l1-norm     lamda            0.05   0.00    0.078278  0.000796   \n",
       "28   l1-norm     lamda            0.05   0.05    0.110852  0.001131   \n",
       "29   l1-norm     lamda            0.05   0.10    0.155598  0.002674   \n",
       "30   l1-norm     lamda            0.05   0.20    0.244918  0.003931   \n",
       "31   l1-norm     lamda            0.05   0.30    0.325461  0.003725   \n",
       "32   l1-norm     lamda            0.05   0.40    0.401414  0.005012   \n",
       "33   l1-norm     lamda            0.05   0.50    0.470507  0.006880   \n",
       "34   l1-norm     lamda            0.05   0.60    0.538928  0.007162   \n",
       "35   l1-norm     lamda            0.05   0.70    0.604942  0.008298   \n",
       "36   l1-norm     lamda            0.10   0.00    0.078278  0.000796   \n",
       "37   l1-norm     lamda            0.10   0.05    0.111051  0.001456   \n",
       "38   l1-norm     lamda            0.10   0.10    0.154985  0.001932   \n",
       "39   l1-norm     lamda            0.10   0.20    0.244484  0.002818   \n",
       "40   l1-norm     lamda            0.10   0.30    0.324601  0.004550   \n",
       "41   l1-norm     lamda            0.10   0.40    0.400945  0.004857   \n",
       "42   l1-norm     lamda            0.10   0.50    0.471267  0.006093   \n",
       "43   l1-norm     lamda            0.10   0.60    0.538683  0.007107   \n",
       "44   l1-norm     lamda            0.10   0.70    0.605464  0.008836   \n",
       "\n",
       "    Acc (mean)  Acc (sd)  NMI (mean)  NMI (sd)  \n",
       "0     0.705556  0.020261    0.815509  0.006284  \n",
       "1     0.682778  0.035893    0.797558  0.019318  \n",
       "2     0.553333  0.045250    0.695596  0.028356  \n",
       "3     0.378333  0.030651    0.531451  0.035606  \n",
       "4     0.266667  0.012790    0.422519  0.019539  \n",
       "5     0.223333  0.025975    0.355822  0.047611  \n",
       "6     0.197778  0.008854    0.322781  0.018625  \n",
       "7     0.186111  0.006334    0.297260  0.018386  \n",
       "8     0.177778  0.006334    0.271343  0.026680  \n",
       "9     0.721111  0.034138    0.823201  0.019395  \n",
       "10    0.687778  0.041633    0.798642  0.021985  \n",
       "11    0.594444  0.031769    0.717988  0.021488  \n",
       "12    0.403889  0.019293    0.555840  0.014703  \n",
       "13    0.267222  0.014207    0.418587  0.022113  \n",
       "14    0.228889  0.014866    0.366398  0.020678  \n",
       "15    0.205556  0.007244    0.334060  0.010352  \n",
       "16    0.197222  0.011653    0.328071  0.013362  \n",
       "17    0.186111  0.012669    0.309219  0.020213  \n",
       "18    0.707222  0.018970    0.818989  0.010120  \n",
       "19    0.682222  0.034987    0.796249  0.020741  \n",
       "20    0.597778  0.025055    0.727959  0.013352  \n",
       "21    0.373889  0.036877    0.545588  0.017427  \n",
       "22    0.267222  0.022181    0.422543  0.027747  \n",
       "23    0.223333  0.022333    0.354102  0.021984  \n",
       "24    0.203889  0.014229    0.319131  0.016617  \n",
       "25    0.180556  0.010686    0.271681  0.020533  \n",
       "26    0.178333  0.010153    0.284349  0.014898  \n",
       "27    0.728333  0.019830    0.828319  0.012214  \n",
       "28    0.688333  0.025664    0.809144  0.011438  \n",
       "29    0.595556  0.031652    0.719954  0.021364  \n",
       "30    0.385556  0.018375    0.541938  0.009942  \n",
       "31    0.261111  0.014803    0.419590  0.008746  \n",
       "32    0.226667  0.014657    0.362858  0.024135  \n",
       "33    0.190556  0.009876    0.301668  0.021879  \n",
       "34    0.182778  0.012838    0.281233  0.018393  \n",
       "35    0.177778  0.014487    0.284605  0.017364  \n",
       "36    0.715556  0.024444    0.824245  0.012943  \n",
       "37    0.683333  0.023831    0.803680  0.011583  \n",
       "38    0.612222  0.034898    0.740342  0.021937  \n",
       "39    0.378333  0.022111    0.529954  0.011976  \n",
       "40    0.276111  0.036456    0.423614  0.042143  \n",
       "41    0.217778  0.022333    0.342918  0.029439  \n",
       "42    0.196667  0.008127    0.314460  0.025458  \n",
       "43    0.183889  0.010000    0.277717  0.022427  \n",
       "44    0.179444  0.012741    0.270129  0.023844  "
      ]
     },
     "execution_count": 48,
     "metadata": {},
     "output_type": "execute_result"
    }
   ],
   "source": [
    "whiteNoise_resultsDf"
   ]
  },
  {
   "cell_type": "markdown",
   "metadata": {},
   "source": [
    "#### Saving the results"
   ]
  },
  {
   "cell_type": "code",
   "execution_count": 49,
   "metadata": {},
   "outputs": [],
   "source": [
    "whiteNoise_resultsDf.to_csv(\"whiteNoise_results.csv\", index = False)"
   ]
  },
  {
   "cell_type": "code",
   "execution_count": 50,
   "metadata": {},
   "outputs": [],
   "source": [
    "boxNoise_resultsDf.to_csv(\"boxNoise_results.csv\", index = False)"
   ]
  },
  {
   "cell_type": "code",
   "execution_count": 51,
   "metadata": {},
   "outputs": [],
   "source": [
    "lapNoise_resultsDf.to_csv(\"lapNoise_results.csv\", index = False)"
   ]
  },
  {
   "cell_type": "markdown",
   "metadata": {},
   "source": [
    "## 8.1 Inspecting Results"
   ]
  },
  {
   "cell_type": "markdown",
   "metadata": {},
   "source": [
    "If you wanted to skip directly to the results, you can load the csv files provided here and follow the next steps:"
   ]
  },
  {
   "cell_type": "code",
   "execution_count": 52,
   "metadata": {},
   "outputs": [],
   "source": [
    "import pandas as pd\n",
    "whiteNoise_resultsDf = pd.read_csv(\"whiteNoise_results.csv\")\n",
    "boxNoise_resultsDf = pd.read_csv(\"boxNoise_results.csv\")\n",
    "lapNoise_resultsDf = pd.read_csv(\"lapNoise_results.csv\")"
   ]
  },
  {
   "cell_type": "markdown",
   "metadata": {},
   "source": [
    "Run the below cell to inspect the results of all four algorithms after adding white noise of varying levels to the Yale dataset. "
   ]
  },
  {
   "cell_type": "markdown",
   "metadata": {},
   "source": [
    "### 8.1.1 Creating Data Tables (suitable for report)"
   ]
  },
  {
   "cell_type": "code",
   "execution_count": 59,
   "metadata": {},
   "outputs": [],
   "source": [
    "def format_results_df(resultsDF, noiselabel = 'p'):\n",
    "    \"\"\"\n",
    "    Create a results table ready to be added to the final report.\n",
    "    \"\"\"\n",
    "    RRE = pd.DataFrame()\n",
    "    Acc = pd.DataFrame()\n",
    "    NMI = pd.DataFrame()\n",
    "    \n",
    "    # Add noise column\n",
    "    noiseVals = sorted(list(set(resultsDF.noise)))\n",
    "    RRE[noiselabel] = noiseVals\n",
    "    Acc[noiselabel] = noiseVals\n",
    "    NMI[noiselabel] = noiseVals\n",
    "    for m in list(set(resultsDF.model)):\n",
    "        if m == 'l1-norm':\n",
    "            df = resultsDF.groupby('parameterValue').mean()\n",
    "            bestLamda = df.loc[df['RRE (mean)'].idxmin()].name\n",
    "        for metric in ['RRE', 'Acc', 'NMI']:\n",
    "            if m != 'l1-norm':\n",
    "                mean = list(resultsDF[resultsDF.model == m][f'{metric} (mean)'])\n",
    "                mean = [str(round(m*100, 2)) for m in mean]\n",
    "                sd = list(resultsDF[resultsDF.model == m][f'{metric} (sd)'])\n",
    "                sd = [str(round(s*100, 2)) for s in sd]\n",
    "                res = [m+'('+s+')' for m,s in zip(mean, sd)]\n",
    "            else:\n",
    "                mean = list(resultsDF.loc[(resultsDF.model == m) & (resultsDF.parameterValue == bestLamda)][f'{metric} (mean)'])\n",
    "                mean = [str(round(m*100, 2)) for m in mean]\n",
    "                sd = list(resultsDF.loc[(resultsDF.model == m) & (resultsDF.parameterValue == bestLamda)][f'{metric} (sd)'])\n",
    "                sd = [str(round(s*100, 2)) for s in sd]\n",
    "                res = [m+'('+s+')' for m,s in zip(mean, sd)]\n",
    "                \n",
    "            if metric == 'RRE':\n",
    "                RRE[m] = res\n",
    "            elif metric == 'Acc':\n",
    "                Acc[m] = res\n",
    "            else:\n",
    "                NMI[m] = res\n",
    "                \n",
    "    return RRE, Acc, NMI"
   ]
  },
  {
   "cell_type": "markdown",
   "metadata": {},
   "source": [
    "Saving formatted data tables:"
   ]
  },
  {
   "cell_type": "code",
   "execution_count": 60,
   "metadata": {},
   "outputs": [],
   "source": [
    "RRE, Acc, NMI = format_results_df(whiteNoise_resultsDf)\n",
    "#RRE.to_csv(\"whiteNoise_RRE.csv\")\n",
    "#Acc.to_csv(\"whiteNoise_Acc.csv\")\n",
    "#NMI.to_csv(\"whiteNoise_NMI.csv\")\n",
    "RRE, Acc, NMI = format_results_df(boxNoise_resultsDf)\n",
    "#RRE.to_csv(\"boxNoise_RRE.csv\")\n",
    "#Acc.to_csv(\"boxNoise_Acc.csv\")\n",
    "#NMI.to_csv(\"boxNoise_NMI.csv\")\n",
    "RRE, Acc, NMI = format_results_df(lapNoise_resultsDf, noiselabel=r\"$\\lambda$\")\n",
    "#RRE.to_csv(\"lapNoise_RRE.csv\")\n",
    "#Acc.to_csv(\"lapNoise_Acc.csv\")\n",
    "#NMI.to_csv(\"lapNoise_NMI.csv\")"
   ]
  },
  {
   "cell_type": "markdown",
   "metadata": {},
   "source": [
    "For example, here are the mean and standard deviation across the 5 folds for relative reconstruction error when laplacian noise is added, comparing the different loss functions:"
   ]
  },
  {
   "cell_type": "code",
   "execution_count": 61,
   "metadata": {},
   "outputs": [
    {
     "data": {
      "text/html": [
       "<div>\n",
       "<style scoped>\n",
       "    .dataframe tbody tr th:only-of-type {\n",
       "        vertical-align: middle;\n",
       "    }\n",
       "\n",
       "    .dataframe tbody tr th {\n",
       "        vertical-align: top;\n",
       "    }\n",
       "\n",
       "    .dataframe thead th {\n",
       "        text-align: right;\n",
       "    }\n",
       "</style>\n",
       "<table border=\"1\" class=\"dataframe\">\n",
       "  <thead>\n",
       "    <tr style=\"text-align: right;\">\n",
       "      <th></th>\n",
       "      <th>$\\lambda$</th>\n",
       "      <th>l1-norm</th>\n",
       "      <th>l2-norm</th>\n",
       "      <th>l21-norm</th>\n",
       "    </tr>\n",
       "  </thead>\n",
       "  <tbody>\n",
       "    <tr>\n",
       "      <th>0</th>\n",
       "      <td>0</td>\n",
       "      <td>7.83(0.08)</td>\n",
       "      <td>7.83(0.08)</td>\n",
       "      <td>8.0(0.07)</td>\n",
       "    </tr>\n",
       "    <tr>\n",
       "      <th>1</th>\n",
       "      <td>5</td>\n",
       "      <td>8.06(0.08)</td>\n",
       "      <td>8.07(0.09)</td>\n",
       "      <td>8.19(0.07)</td>\n",
       "    </tr>\n",
       "    <tr>\n",
       "      <th>2</th>\n",
       "      <td>10</td>\n",
       "      <td>8.8(0.08)</td>\n",
       "      <td>8.8(0.08)</td>\n",
       "      <td>8.88(0.07)</td>\n",
       "    </tr>\n",
       "    <tr>\n",
       "      <th>3</th>\n",
       "      <td>40</td>\n",
       "      <td>19.88(0.14)</td>\n",
       "      <td>20.88(0.12)</td>\n",
       "      <td>20.89(0.18)</td>\n",
       "    </tr>\n",
       "    <tr>\n",
       "      <th>4</th>\n",
       "      <td>80</td>\n",
       "      <td>36.48(0.29)</td>\n",
       "      <td>38.52(0.28)</td>\n",
       "      <td>38.78(0.34)</td>\n",
       "    </tr>\n",
       "    <tr>\n",
       "      <th>5</th>\n",
       "      <td>120</td>\n",
       "      <td>57.09(0.45)</td>\n",
       "      <td>55.72(0.2)</td>\n",
       "      <td>56.19(0.39)</td>\n",
       "    </tr>\n",
       "    <tr>\n",
       "      <th>6</th>\n",
       "      <td>160</td>\n",
       "      <td>79.46(0.75)</td>\n",
       "      <td>73.06(0.62)</td>\n",
       "      <td>73.21(0.74)</td>\n",
       "    </tr>\n",
       "    <tr>\n",
       "      <th>7</th>\n",
       "      <td>200</td>\n",
       "      <td>98.37(0.81)</td>\n",
       "      <td>89.95(0.6)</td>\n",
       "      <td>89.47(0.66)</td>\n",
       "    </tr>\n",
       "    <tr>\n",
       "      <th>8</th>\n",
       "      <td>240</td>\n",
       "      <td>114.52(1.31)</td>\n",
       "      <td>106.11(0.55)</td>\n",
       "      <td>105.34(0.77)</td>\n",
       "    </tr>\n",
       "    <tr>\n",
       "      <th>9</th>\n",
       "      <td>280</td>\n",
       "      <td>132.69(1.24)</td>\n",
       "      <td>122.23(0.77)</td>\n",
       "      <td>120.87(1.1)</td>\n",
       "    </tr>\n",
       "  </tbody>\n",
       "</table>\n",
       "</div>"
      ],
      "text/plain": [
       "   $\\lambda$       l1-norm       l2-norm      l21-norm\n",
       "0          0    7.83(0.08)    7.83(0.08)     8.0(0.07)\n",
       "1          5    8.06(0.08)    8.07(0.09)    8.19(0.07)\n",
       "2         10     8.8(0.08)     8.8(0.08)    8.88(0.07)\n",
       "3         40   19.88(0.14)   20.88(0.12)   20.89(0.18)\n",
       "4         80   36.48(0.29)   38.52(0.28)   38.78(0.34)\n",
       "5        120   57.09(0.45)    55.72(0.2)   56.19(0.39)\n",
       "6        160   79.46(0.75)   73.06(0.62)   73.21(0.74)\n",
       "7        200   98.37(0.81)    89.95(0.6)   89.47(0.66)\n",
       "8        240  114.52(1.31)  106.11(0.55)  105.34(0.77)\n",
       "9        280  132.69(1.24)  122.23(0.77)   120.87(1.1)"
      ]
     },
     "execution_count": 61,
     "metadata": {},
     "output_type": "execute_result"
    }
   ],
   "source": [
    "RRE"
   ]
  },
  {
   "cell_type": "code",
   "execution_count": null,
   "metadata": {},
   "outputs": [],
   "source": []
  }
 ],
 "metadata": {
  "kernelspec": {
   "display_name": "Python 3 (ipykernel)",
   "language": "python",
   "name": "python3"
  },
  "language_info": {
   "codemirror_mode": {
    "name": "ipython",
    "version": 3
   },
   "file_extension": ".py",
   "mimetype": "text/x-python",
   "name": "python",
   "nbconvert_exporter": "python",
   "pygments_lexer": "ipython3",
   "version": "3.9.6"
  }
 },
 "nbformat": 4,
 "nbformat_minor": 4
}
